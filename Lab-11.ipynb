{
 "metadata": {
  "language_info": {
   "codemirror_mode": {
    "name": "ipython",
    "version": 3
   },
   "file_extension": ".py",
   "mimetype": "text/x-python",
   "name": "python",
   "nbconvert_exporter": "python",
   "pygments_lexer": "ipython3",
   "version": "3.7.6-final"
  },
  "orig_nbformat": 2,
  "kernelspec": {
   "name": "python3",
   "display_name": "Python 3",
   "language": "python"
  }
 },
 "nbformat": 4,
 "nbformat_minor": 2,
 "cells": [
  {
   "source": [
    "# Lab 11 - 1828258 Pranav Shekhar"
   ],
   "cell_type": "markdown",
   "metadata": {}
  },
  {
   "source": [
    "## Object Oriented Programming"
   ],
   "cell_type": "markdown",
   "metadata": {}
  },
  {
   "cell_type": "code",
   "execution_count": 1,
   "metadata": {},
   "outputs": [],
   "source": [
    "class Computer:\n",
    "    pass\n",
    "obj = Computer()"
   ]
  },
  {
   "cell_type": "code",
   "execution_count": 2,
   "metadata": {},
   "outputs": [],
   "source": [
    "def dance(self):\n",
    "        return \"{} is now dancing\".format(self.name)"
   ]
  },
  {
   "cell_type": "code",
   "execution_count": 3,
   "metadata": {},
   "outputs": [
    {
     "output_type": "stream",
     "name": "stdout",
     "text": [
      "Bird is ready\nPenguin is ready\nPenguin\nSwim faster\nRun faster\n"
     ]
    }
   ],
   "source": [
    "class Bird:\n",
    "    \n",
    "    def __init__(self):\n",
    "        print(\"Bird is ready\")\n",
    "\n",
    "    def whoisThis(self):\n",
    "        print(\"Bird\")\n",
    "\n",
    "    def swim(self):\n",
    "        print(\"Swim faster\")\n",
    "\n",
    "# child class\n",
    "class Penguin(Bird):\n",
    "\n",
    "    def __init__(self):\n",
    "        # call super() function\n",
    "        super().__init__()\n",
    "        print(\"Penguin is ready\")\n",
    "\n",
    "    def whoisThis(self):\n",
    "        print(\"Penguin\")\n",
    "\n",
    "    def run(self):\n",
    "        print(\"Run faster\")\n",
    "\n",
    "peggy = Penguin()\n",
    "peggy.whoisThis()\n",
    "peggy.swim()\n",
    "peggy.run()"
   ]
  },
  {
   "source": [
    "## 1. WAP that creates a class with a single method. "
   ],
   "cell_type": "markdown",
   "metadata": {}
  },
  {
   "cell_type": "code",
   "execution_count": 4,
   "metadata": {},
   "outputs": [
    {
     "output_type": "stream",
     "name": "stdout",
     "text": [
      "Car is ready\n"
     ]
    }
   ],
   "source": [
    "class Car:\n",
    "    \n",
    "    def __init__(self):\n",
    "        print(\"Car is ready\")\n",
    "\n",
    "\n",
    "car = Car()\n"
   ]
  },
  {
   "source": [
    "## 2. WAP TO CREATE A CLASS  AND USE INSTANCE VARIABLES"
   ],
   "cell_type": "markdown",
   "metadata": {}
  },
  {
   "cell_type": "code",
   "execution_count": 5,
   "metadata": {},
   "outputs": [
    {
     "output_type": "stream",
     "name": "stdout",
     "text": [
      "Elon Musk\nOwner of Tesla\n"
     ]
    }
   ],
   "source": [
    "class Musk:\n",
    "    \n",
    "    def __init__(self):\n",
    "        print(\"Elon Musk\")\n",
    "\n",
    "    def Tesla(self):\n",
    "        print(\"Owner of Tesla\")\n",
    "\n",
    "\n",
    "musk = Musk()\n",
    "musk.Tesla()"
   ]
  },
  {
   "source": [
    "## 3. WAP TO COUNT NO. OF OBJECTS CREATED"
   ],
   "cell_type": "markdown",
   "metadata": {}
  },
  {
   "cell_type": "code",
   "execution_count": 6,
   "metadata": {},
   "outputs": [
    {
     "output_type": "stream",
     "name": "stdout",
     "text": [
      "Total number of objects created:  3\n"
     ]
    }
   ],
   "source": [
    "class Student :\n",
    "\n",
    "    counter = 0\n",
    "\n",
    "    def __init__(self,name,age) :\n",
    "\n",
    "        self.name = name\n",
    "        self.age = age\n",
    "\n",
    "\n",
    "        Student.counter += 1\n",
    "\n",
    "    def printDetails(self) :\n",
    "        print(self.name,self.age,\"years old\")\n",
    "\n",
    "    \n",
    "\n",
    "\n",
    "student1 = Student('Pranav',21)\n",
    "student2 = Student('Manna',22)\n",
    "student3 = Student('Chandu',21)\n",
    "\n",
    "print(\"Total number of objects created: \",Student.counter)"
   ]
  },
  {
   "source": [
    "## 4. USING CLASS CONCEPT IN  Python WAP to check a number is Palindrome number or not."
   ],
   "cell_type": "markdown",
   "metadata": {}
  },
  {
   "cell_type": "code",
   "execution_count": 11,
   "metadata": {},
   "outputs": [
    {
     "output_type": "stream",
     "name": "stdout",
     "text": [
      "151 is not Palindrome\n"
     ]
    }
   ],
   "source": [
    "\n",
    "class CheckPallindrome :\n",
    "\n",
    "\n",
    "    def __init__(self,number) :\n",
    "        self.num = number\n",
    "        \n",
    "\n",
    "    def isPalindrome(self) :\n",
    "\n",
    "        temp = self.num\n",
    "\n",
    "\n",
    "        result = 0\n",
    "\n",
    "        while(temp != 0) :\n",
    "            \n",
    "            rem = temp % 10\n",
    "\n",
    "            result =  result * 10 + rem\n",
    "\n",
    " \n",
    "            temp = temp/10\n",
    "\n",
    "\n",
    "        if self.num == result :\n",
    "            print(self.num,\"is Palindrome\")\n",
    "        else :\n",
    "            print(self.num,\"is not Palindrome\")\n",
    "\n",
    "\n",
    "num = 151\n",
    "check_Palindrome = CheckPallindrome(num)\n",
    "check_Palindrome.isPalindrome()\n"
   ]
  },
  {
   "source": [
    "## 5. Python program to add two distances."
   ],
   "cell_type": "markdown",
   "metadata": {}
  },
  {
   "cell_type": "code",
   "execution_count": 14,
   "metadata": {},
   "outputs": [
    {
     "output_type": "stream",
     "name": "stdout",
     "text": [
      "Enter first distance\n",
      "Enter second distance\n",
      "The sum of both distance is\n",
      "145 103 90\n"
     ]
    }
   ],
   "source": [
    "class Distance:\n",
    "    def GetDistance(self):\n",
    "        self.cm=int(input(\"Enter CM: \"))\n",
    "        self.m=int(input(\"Enter M: \"))\n",
    "        self.km = int(input(\"Enter KM: \"))\n",
    "\n",
    "    def PutDistance(self):\n",
    "        print(self.km,self.m,self.cm)\n",
    "\n",
    "    def __add__(self, T):\n",
    "        R=Distance()\n",
    "        R.cm=self.cm+T.cm\n",
    "        R.m=self.m+T.m\n",
    "        R.km = self.km + T.km\n",
    "        R.m=R.m+(R.cm//100)\n",
    "        R.cm=R.cm%100\n",
    "        R.km=R.km+(R.m//1000)\n",
    "        R.m=R.m%1000\n",
    "\n",
    "        return R\n",
    "\n",
    "D1=Distance()\n",
    "D2=Distance()\n",
    "\n",
    "print(\"Enter first distance\")\n",
    "D1.GetDistance()\n",
    "\n",
    "print(\"Enter second distance\")\n",
    "D2.GetDistance()\n",
    "\n",
    "D3=D1+D2\n",
    "\n",
    "print(\"The sum of both distance is\")\n",
    "D3.PutDistance()"
   ]
  }
 ]
}