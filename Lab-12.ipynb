{
 "metadata": {
  "language_info": {
   "codemirror_mode": {
    "name": "ipython",
    "version": 3
   },
   "file_extension": ".py",
   "mimetype": "text/x-python",
   "name": "python",
   "nbconvert_exporter": "python",
   "pygments_lexer": "ipython3",
   "version": "3.6.8-final"
  },
  "orig_nbformat": 2,
  "kernelspec": {
   "name": "python3",
   "display_name": "Python 3.6.8 64-bit ('my_personal_lab': conda)",
   "metadata": {
    "interpreter": {
     "hash": "7c94d32e572778f173b9c5c1ef4f05bc2ec293e2da62ab8bc3bedc7c9ebe6715"
    }
   }
  }
 },
 "nbformat": 4,
 "nbformat_minor": 2,
 "cells": [
  {
   "source": [
    "# Lab 12 - 1828258 Pranav Shekhar"
   ],
   "cell_type": "markdown",
   "metadata": {}
  },
  {
   "source": [
    "## 1. Create a Python class named Circle constructed by a radius and two methods which will compute the area and the perimeter of a circle."
   ],
   "cell_type": "markdown",
   "metadata": {}
  },
  {
   "cell_type": "code",
   "execution_count": 1,
   "metadata": {},
   "outputs": [
    {
     "output_type": "stream",
     "name": "stdout",
     "text": [
      "Area of circle: 201.06\nPerimeter of circle: 50.27\n"
     ]
    }
   ],
   "source": [
    "import math\n",
    "class circle():\n",
    "    def __init__(self,radius):\n",
    "        self.radius=radius\n",
    "    def area(self):\n",
    "        return math.pi*(self.radius**2)\n",
    "    def perimeter(self):\n",
    "        return 2*math.pi*self.radius\n",
    " \n",
    "r=int(input(\"Enter radius of circle: \"))\n",
    "obj=circle(r)\n",
    "print(\"Area of circle:\",round(obj.area(),2))\n",
    "print(\"Perimeter of circle:\",round(obj.perimeter(),2))"
   ]
  },
  {
   "source": [
    "## 2. Create a Python class named Rectangle constructed by a length and width and a method which will compute the area of a rectangle."
   ],
   "cell_type": "markdown",
   "metadata": {}
  },
  {
   "cell_type": "code",
   "execution_count": 3,
   "metadata": {},
   "outputs": [
    {
     "output_type": "stream",
     "name": "stdout",
     "text": [
      "120\n"
     ]
    }
   ],
   "source": [
    "class Rectangle():\n",
    "    def __init__(self, l, w):\n",
    "        self.length = l\n",
    "        self.width  = w\n",
    "\n",
    "    def rectangle_area(self):\n",
    "        return self.length*self.width\n",
    "\n",
    "l=int(input(\"Enter length of Rectangle: \"))\n",
    "w=int(input(\"Enter width of Rectangle: \"))\n",
    "newRectangle = Rectangle(l,w)\n",
    "print(newRectangle.rectangle_area())"
   ]
  },
  {
   "source": [
    "## 3. Find student grade using class in Python."
   ],
   "cell_type": "markdown",
   "metadata": {}
  },
  {
   "cell_type": "code",
   "execution_count": 10,
   "metadata": {},
   "outputs": [
    {
     "output_type": "stream",
     "name": "stdout",
     "text": [
      "Enter marks of 5 subjects: \n",
      "258 \t\t Pranav \t\t 415 \t\t 83.0 \t\t A \t\t PASS\n"
     ]
    }
   ],
   "source": [
    "class Student:\n",
    "    def __init__(self):\n",
    "        self.__roll=0\n",
    "        self.__name=\"\"\n",
    "        self.__marks=[]\n",
    "        self.__total=0\n",
    "        self.__per=0\n",
    "        self.__grade=\"\"\n",
    "        self.__result=\"\"\n",
    "\n",
    "    def setStudent(self):\n",
    "        self.__roll=int(input(\"Enter Roll: \"))\n",
    "        self.__name=input(\"Enter Name: \")\n",
    "        print(\"Enter marks of 5 subjects: \")\n",
    "        for i in range(5):\n",
    "            self.__marks.append(int(input(\"Subject \"+str(i+1)+\": \")))\n",
    "\t\t\t\n",
    "    def calculateTotal(self):\n",
    "        for x in self.__marks:\n",
    "            self.__total+=x\n",
    "\t\t\t\n",
    "    def calculatePercentage(self):\n",
    "        self.__per=self.__total/5\n",
    "\t\t\n",
    "    def calculateGrade(self):\n",
    "        if self.__per>=85:\n",
    "            self.__grade=\"O\"\n",
    "        elif self.__per>=75:\n",
    "            self.__grade=\"A\"\n",
    "        elif self.__per>=65:\n",
    "            self.__grade=\"B\"\n",
    "        elif self.__per>=55:\n",
    "            self.__grade=\"C\"\n",
    "        elif self.__per>=50:\n",
    "            self.__grade=\"D\"\n",
    "        else:\n",
    "            self.__grade=\"F\"\n",
    "\t\t\t\n",
    "    def calculateResult(self):\n",
    "        count=0\n",
    "        for x in self.__marks:\n",
    "            if x>=50:\n",
    "                count+=1\n",
    "        if count==5:\n",
    "            self.__result=\"PASS\"\n",
    "        elif count>=3:\n",
    "            self.__result=\"COMP.\"\n",
    "        else:\n",
    "            self.__result=\"FAIL\"\n",
    "\t\t\t\n",
    "    def showStudent(self):\n",
    "        self.calculateTotal()\n",
    "        self.calculatePercentage()\n",
    "        self.calculateGrade()\n",
    "        self.calculateResult()\n",
    "        print(self.__roll,\"\\t\\t\",self.__name,\"\\t\\t\",self.__total,\"\\t\\t\",self.__per,\"\\t\\t\",self.__grade,\"\\t\\t\",self.__result)\n",
    "\n",
    "\n",
    "s=Student()\n",
    "s.setStudent()\n",
    "s.showStudent()"
   ]
  },
  {
   "source": [
    "## 4. Create a BookStore class in Python."
   ],
   "cell_type": "markdown",
   "metadata": {}
  },
  {
   "cell_type": "code",
   "execution_count": 12,
   "metadata": {},
   "outputs": [
    {
     "output_type": "stream",
     "name": "stdout",
     "text": [
      "Harry Potter J.K 100\n"
     ]
    }
   ],
   "source": [
    "class BookStore():\n",
    "    def __init__(self):\n",
    "        self.name=input(\"Enter Name of the Book:-  \")\n",
    "        self.author=input(\"Enter the author's name:-  \")\n",
    "        self.price=int(input(\"Enter the Price:- \"))\n",
    "        \n",
    "    def PutData(self):\n",
    "        print(self.name,self.author,self.price)\n",
    "\n",
    "\n",
    "\n",
    "book= BookStore()\n",
    "\n",
    "book.PutData()\n",
    "\n"
   ]
  }
 ]
}