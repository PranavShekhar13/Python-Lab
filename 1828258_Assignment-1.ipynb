{
 "cells": [
  {
   "cell_type": "markdown",
   "metadata": {},
   "source": [
    "# *Assignment - 1*"
   ]
  },
  {
   "cell_type": "markdown",
   "metadata": {},
   "source": [
    "## *Q1. WAP to find the first n numbers of a Fibonacci sequence.*"
   ]
  },
  {
   "cell_type": "code",
   "execution_count": 1,
   "metadata": {},
   "outputs": [
    {
     "name": "stdout",
     "output_type": "stream",
     "text": [
      "0 1 1 2 3 5 "
     ]
    }
   ],
   "source": [
    "n = int(input(\"Enter the value of n: \"))\n",
    "\n",
    "first = 0\n",
    "second = 1\n",
    "\n",
    "if n == 1:\n",
    "    print(\"0\")\n",
    "\n",
    "else:\n",
    "    print(\"0\", end=\" \")\n",
    "    for i in range(n-1):\n",
    "        third = first + second\n",
    "        print(third, end=\" \")\n",
    "        second = first\n",
    "        first = third"
   ]
  },
  {
   "cell_type": "markdown",
   "metadata": {},
   "source": [
    "## *Q2. WAP to evaluate the equation y=x^n where n is a non-negative integer.*"
   ]
  },
  {
   "cell_type": "code",
   "execution_count": 10,
   "metadata": {},
   "outputs": [
    {
     "name": "stdout",
     "output_type": "stream",
     "text": [
      "Enter x: 2\n",
      "Enter n: 3\n",
      "The value of the expression: 8\n"
     ]
    }
   ],
   "source": [
    "x = int(input(\"Enter x: \"))\n",
    "n = int(input(\"Enter n: \"))\n",
    "\n",
    "res = 1\n",
    "\n",
    "for _ in range(n):\n",
    "    res *= x\n",
    "    \n",
    "print(f\"The value of the expression evaluates to: {res}\")"
   ]
  },
  {
   "cell_type": "markdown",
   "metadata": {},
   "source": [
    "## *Q3. WAP to sum the following series S=1+(1+2)+(1+2+3)+...+(1+2+3+...+n)*"
   ]
  },
  {
   "cell_type": "code",
   "execution_count": 2,
   "metadata": {},
   "outputs": [
    {
     "name": "stdout",
     "output_type": "stream",
     "text": [
      "Sum of series for n=7 is: 84\n"
     ]
    }
   ],
   "source": [
    "n = int(input(\"Enter n: \"))\n",
    "\n",
    "sum_series = 0\n",
    "\n",
    "for i in range(1, n+1):\n",
    "    for j in range(1, i+1):\n",
    "        sum_series += j\n",
    "        \n",
    "print(f\"Sum of series for n={n} is: {sum_series}\")"
   ]
  },
  {
   "cell_type": "markdown",
   "metadata": {},
   "source": [
    "## *Q4. WAP to input any two integers, and provide a menu to the user to select any of the options as add, subtract, multiply, divide and display the result accordingly.*"
   ]
  },
  {
   "cell_type": "code",
   "execution_count": 13,
   "metadata": {},
   "outputs": [
    {
     "name": "stdout",
     "output_type": "stream",
     "text": [
      "Enter two integers (Larger integer first): 4 2\n",
      "Menu\n",
      "1. Add\n",
      "2. Substract\n",
      "3. Multiply\n",
      "4. Divide\n",
      "Enter your choice:\n",
      "4\n",
      "Division is:  2.0\n"
     ]
    }
   ],
   "source": [
    "x, y = map(int, input(\"Enter two integers (Larger integer first): \").split())\n",
    "\n",
    "print(\"Menu\\n1. Add\\n2. Substract\\n3. Multiply\\n4. Divide\\nEnter your choice:\")\n",
    "choice = int(input())\n",
    "\n",
    "if choice == 1:\n",
    "    print(\"Addition is: \", x+y)\n",
    "elif choice == 2:\n",
    "    print(\"Substraction is: \", x-y)\n",
    "elif choice == 3:\n",
    "    print(\"Multiplication is: \", x*y)\n",
    "elif choice == 4:\n",
    "    print(\"Division is: \", x/y)"
   ]
  },
  {
   "cell_type": "markdown",
   "metadata": {},
   "source": [
    "## *Q5. WAP to find the roots of a quadratic equation ax2+bx+c=0 using if-else statement.*"
   ]
  },
  {
   "cell_type": "code",
   "execution_count": 18,
   "metadata": {},
   "outputs": [
    {
     "name": "stdout",
     "output_type": "stream",
     "text": [
      "Enter a: 1\n",
      "Enter b: 3\n",
      "Enter c: 1\n",
      "Roots are real and distinct: -0.3819660112501051 and -2.618033988749895\n"
     ]
    }
   ],
   "source": [
    "from math import sqrt\n",
    "\n",
    "a = int(input(\"Enter a: \"))\n",
    "b = int(input(\"Enter b: \"))\n",
    "c = int(input(\"Enter c: \"))\n",
    "\n",
    "D = (b*b) - (4*a*c)\n",
    "\n",
    "if D > 0:\n",
    "    print(f\"Roots are real and distinct: {(-b + sqrt(D))/(2*a)} and {(-b - sqrt(D))/(2*a)}\")\n",
    "elif D == 0:\n",
    "    print(f\"Roots are real and equal: {-b / (2*a)}\")\n",
    "else:\n",
    "    print(f\"Roots are imaginary\")"
   ]
  }
 ],
 "metadata": {
  "kernelspec": {
   "display_name": "Python 3",
   "language": "python",
   "name": "python3"
  },
  "language_info": {
   "codemirror_mode": {
    "name": "ipython",
    "version": 3
   },
   "file_extension": ".py",
   "mimetype": "text/x-python",
   "name": "python",
   "nbconvert_exporter": "python",
   "pygments_lexer": "ipython3",
   "version": "3.6.8"
  }
 },
 "nbformat": 4,
 "nbformat_minor": 2
}
