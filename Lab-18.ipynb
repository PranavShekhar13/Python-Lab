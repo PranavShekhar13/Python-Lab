{
 "metadata": {
  "language_info": {
   "codemirror_mode": {
    "name": "ipython",
    "version": 3
   },
   "file_extension": ".py",
   "mimetype": "text/x-python",
   "name": "python",
   "nbconvert_exporter": "python",
   "pygments_lexer": "ipython3",
   "version": "3.6.8-final"
  },
  "orig_nbformat": 2,
  "kernelspec": {
   "name": "python368jvsc74a57bd07c94d32e572778f173b9c5c1ef4f05bc2ec293e2da62ab8bc3bedc7c9ebe6715",
   "display_name": "Python 3.6.8 64-bit ('my_personal_lab': conda)"
  }
 },
 "nbformat": 4,
 "nbformat_minor": 2,
 "cells": [
  {
   "source": [
    "# Lab 18 - 1828258 Pranav Shekhar"
   ],
   "cell_type": "markdown",
   "metadata": {}
  },
  {
   "source": [
    "## 1. Write a NumPy program to compute the cross product of two given vectors."
   ],
   "cell_type": "markdown",
   "metadata": {}
  },
  {
   "cell_type": "code",
   "execution_count": 2,
   "metadata": {},
   "outputs": [
    {
     "output_type": "stream",
     "name": "stdout",
     "text": [
      "Original Matrix:\n[[1 0]\n [0 1]]\n[[1 2]\n [3 4]]\nCross product of the two vectors(p, q):\n[ 2 -3]\nCross product of the two vectors(q, p):\n[-2  3]\n"
     ]
    }
   ],
   "source": [
    "import numpy as np\n",
    "p = np.array([[1, 0], [0, 1]])\n",
    "q = np.array([[1, 2], [3, 4]])\n",
    "print(\"Original Matrix:\")\n",
    "print(p)\n",
    "print(q)\n",
    "result1 = np.cross(p, q)\n",
    "result2 = np.cross(q, p)\n",
    "print(\"Cross product of the two vectors(p, q):\")\n",
    "print(result1)\n",
    "print(\"Cross product of the two vectors(q, p):\")\n",
    "print(result2)"
   ]
  },
  {
   "source": [
    "\n",
    "## 2. Write a NumPy program to compute the determinant of a given square array."
   ],
   "cell_type": "markdown",
   "metadata": {}
  },
  {
   "cell_type": "code",
   "execution_count": 4,
   "metadata": {},
   "outputs": [
    {
     "output_type": "stream",
     "name": "stdout",
     "text": [
      "Original Array\n[[1 0]\n [1 2]]\nDeterminant of the said 2-D array:\n2.0\n"
     ]
    }
   ],
   "source": [
    "import numpy as np\n",
    "from numpy import linalg\n",
    "a = np.array([[1, 0], [1, 2]])\n",
    "print(\"Original Array\")\n",
    "print(a)\n",
    "print(\"Determinant of the said 2-D array:\")\n",
    "print(np.linalg.det(a))"
   ]
  },
  {
   "source": [
    "## 3. Write a NumPy program to create a structured array from given student name, height, class and their data types. Now sort the array on height."
   ],
   "cell_type": "markdown",
   "metadata": {}
  },
  {
   "cell_type": "code",
   "execution_count": 6,
   "metadata": {},
   "outputs": [
    {
     "output_type": "stream",
     "name": "stdout",
     "text": [
      "Original array:\n[(b'James', 5, 48.5 ) (b'Nail', 6, 52.5 ) (b'Paul', 5, 42.1 )\n (b'Pit', 5, 40.11)]\nSort by height\n[(b'Pit', 5, 40.11) (b'Paul', 5, 42.1 ) (b'James', 5, 48.5 )\n (b'Nail', 6, 52.5 )]\n"
     ]
    }
   ],
   "source": [
    "import numpy as np\n",
    "data_type = [('name', 'S15'), ('class', int), ('height', float)]\n",
    "students_details = [('James', 5, 48.5), ('Nail', 6, 52.5),('Paul', 5, 42.10), ('Pit', 5, 40.11)]\n",
    "students = np.array(students_details, dtype=data_type)   \n",
    "print(\"Original array:\")\n",
    "print(students)\n",
    "print(\"Sort by height\")\n",
    "print(np.sort(students, order='height'))"
   ]
  },
  {
   "source": [
    "## 4. Write a NumPy program to get the indices of the sorted elements of a given array."
   ],
   "cell_type": "markdown",
   "metadata": {}
  },
  {
   "cell_type": "code",
   "execution_count": 7,
   "metadata": {},
   "outputs": [
    {
     "output_type": "stream",
     "name": "stdout",
     "text": [
      "Original array:\n[1023 5202 6230 1671 1682 5241 4532]\nIndices of the sorted elements of a given array:\n[0 3 4 6 1 5 2]\n"
     ]
    }
   ],
   "source": [
    "import numpy as np\n",
    "student_id = np.array([1023, 5202, 6230, 1671, 1682, 5241, 4532])\n",
    "print(\"Original array:\")\n",
    "print(student_id)\n",
    "i = np.argsort(student_id)\n",
    "print(\"Indices of the sorted elements of a given array:\")\n",
    "print(i)"
   ]
  },
  {
   "source": [
    "## 5. Write a Pandas program to select the rows where number of attempts in the examination is less than 2 and score greater than 15. \n",
    "Sample Python dictionary data and list labels:\n",
    "exam_data = {'name': ['Anastasia', 'Dima', 'Katherine', 'James', 'Emily', 'Michael', 'Matthew', 'Laura', 'Kevin', 'Jonas'],\n",
    "'score': [12.5, 9, 16.5, np.nan, 9, 20, 14.5, np.nan, 8, 19],\n",
    "'attempts': [1, 3, 2, 3, 2, 3, 1, 1, 2, 1],\n",
    "'qualify': ['yes', 'no', 'yes', 'no', 'no', 'yes', 'yes', 'no', 'no', 'yes']}"
   ],
   "cell_type": "markdown",
   "metadata": {}
  },
  {
   "source": [
    "import pandas as pd\n",
    "import numpy as np\n",
    "exam_data  = {'name': ['Anastasia', 'Dima', 'Katherine', 'James', 'Emily', 'Michael', 'Matthew', 'Laura', 'Kevin', 'Jonas'],\n",
    "        'score': [12.5, 9, 16.5, np.nan, 9, 20, 14.5, np.nan, 8, 19],\n",
    "        'attempts': [1, 3, 2, 3, 2, 3, 1, 1, 2, 1],\n",
    "        'qualify': ['yes', 'no', 'yes', 'no', 'no', 'yes', 'yes', 'no', 'no', 'yes']}\n",
    "labels = ['a', 'b', 'c', 'd', 'e', 'f', 'g', 'h', 'i', 'j']\n",
    "df = pd.DataFrame(exam_data , index=labels)\n",
    "print(\"Number of attempts in the examination is less than 2 and score greater than 15 :\")\n",
    "print(df[(df['attempts'] < 2) & (df['score'] > 15)])"
   ],
   "cell_type": "code",
   "metadata": {},
   "execution_count": 8,
   "outputs": [
    {
     "output_type": "stream",
     "name": "stdout",
     "text": [
      "Number of attempts in the examination is less than 2 and score greater than 15 :\n    name  score  attempts qualify\nj  Jonas   19.0         1     yes\n"
     ]
    }
   ]
  },
  {
   "source": [
    "## 6. Write a Pandas program to check whether only lower case or upper case is present in a given column of a DataFrame."
   ],
   "cell_type": "markdown",
   "metadata": {}
  },
  {
   "cell_type": "code",
   "execution_count": 9,
   "metadata": {},
   "outputs": [
    {
     "output_type": "stream",
     "name": "stdout",
     "text": [
      "Original DataFrame:\n  company_code date_of_sale   sale_amount\n0         ABCD    12/05/2002      12348.5\n1         EFGF    16/02/1999     233331.2\n2         hhhh    25/09/1998         22.5\n3         abcd    12/02/2022    2566552.0\n4      EAWQaaa    15/09/1997         23.0\n\nIs lower (company_code)?\n  company_code date_of_sale   sale_amount  company_code_ul_cases\n0         ABCD    12/05/2002      12348.5                  False\n1         EFGF    16/02/1999     233331.2                  False\n2         hhhh    25/09/1998         22.5                   True\n3         abcd    12/02/2022    2566552.0                   True\n4      EAWQaaa    15/09/1997         23.0                  False\n\nIs Upper (company_code)?\n  company_code date_of_sale   sale_amount  company_code_ul_cases\n0         ABCD    12/05/2002      12348.5                   True\n1         EFGF    16/02/1999     233331.2                   True\n2         hhhh    25/09/1998         22.5                  False\n3         abcd    12/02/2022    2566552.0                  False\n4      EAWQaaa    15/09/1997         23.0                  False\n"
     ]
    }
   ],
   "source": [
    "import pandas as pd\n",
    "df = pd.DataFrame({\n",
    "    'company_code': ['ABCD','EFGF', 'hhhh', 'abcd', 'EAWQaaa'],\n",
    "    'date_of_sale ': ['12/05/2002','16/02/1999','25/09/1998','12/02/2022','15/09/1997'],\n",
    "    'sale_amount': [12348.5, 233331.2, 22.5, 2566552.0, 23.0]})\n",
    "\n",
    "print(\"Original DataFrame:\")\n",
    "print(df)\n",
    "print(\"\\nIs lower (company_code)?\")\n",
    "df['company_code_ul_cases'] = list(map(lambda x: x.islower(), df['company_code']))\n",
    "print(df)\n",
    "print(\"\\nIs Upper (company_code)?\")\n",
    "df['company_code_ul_cases'] = list(map(lambda x: x.isupper(), df['company_code']))\n",
    "print(df)"
   ]
  },
  {
   "cell_type": "code",
   "execution_count": null,
   "metadata": {},
   "outputs": [],
   "source": []
  }
 ]
}