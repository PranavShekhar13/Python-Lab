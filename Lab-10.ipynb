{
 "metadata": {
  "language_info": {
   "codemirror_mode": {
    "name": "ipython",
    "version": 3
   },
   "file_extension": ".py",
   "mimetype": "text/x-python",
   "name": "python",
   "nbconvert_exporter": "python",
   "pygments_lexer": "ipython3",
   "version": "3.6.8-final"
  },
  "orig_nbformat": 2,
  "kernelspec": {
   "name": "python368jvsc74a57bd07c94d32e572778f173b9c5c1ef4f05bc2ec293e2da62ab8bc3bedc7c9ebe6715",
   "display_name": "Python 3.6.8 64-bit ('my_personal_lab': conda)"
  }
 },
 "nbformat": 4,
 "nbformat_minor": 2,
 "cells": [
  {
   "source": [
    "# Lab 10 - 1828258 Pranav Shekhar"
   ],
   "cell_type": "markdown",
   "metadata": {}
  },
  {
   "source": [
    "## SETS"
   ],
   "cell_type": "markdown",
   "metadata": {}
  },
  {
   "cell_type": "code",
   "execution_count": 1,
   "metadata": {},
   "outputs": [
    {
     "output_type": "stream",
     "name": "stdout",
     "text": [
      "{1, 2, 3, 5, 9, 77}\n"
     ]
    }
   ],
   "source": [
    "\n",
    "my_set = {1, 2, 3,5,9,77}\n",
    "print(my_set)"
   ]
  },
  {
   "source": [
    "## Empty Set"
   ],
   "cell_type": "markdown",
   "metadata": {}
  },
  {
   "cell_type": "code",
   "execution_count": 2,
   "metadata": {},
   "outputs": [],
   "source": [
    "s = set()"
   ]
  },
  {
   "cell_type": "code",
   "execution_count": 4,
   "metadata": {},
   "outputs": [
    {
     "output_type": "stream",
     "name": "stdout",
     "text": [
      "{1, 2, 3, 4, 5, 6, 8, 9, 77}\n"
     ]
    }
   ],
   "source": [
    "my_set.update([4, 5], {1, 6, 8})\n",
    "print(my_set)"
   ]
  },
  {
   "cell_type": "code",
   "execution_count": 6,
   "metadata": {},
   "outputs": [
    {
     "output_type": "stream",
     "name": "stdout",
     "text": [
      "{1, 2, 3, 4, 5, 6, 8, 9, 77, 15}\n"
     ]
    }
   ],
   "source": [
    "my_set.add(15)\n",
    "print(my_set)"
   ]
  },
  {
   "cell_type": "code",
   "execution_count": 7,
   "metadata": {},
   "outputs": [
    {
     "output_type": "stream",
     "name": "stdout",
     "text": [
      "{1, 2, 3, 5, 6, 8, 9, 77, 15}\n"
     ]
    }
   ],
   "source": [
    "my_set.discard(4)\n",
    "print(my_set)"
   ]
  },
  {
   "cell_type": "code",
   "execution_count": 11,
   "metadata": {},
   "outputs": [
    {
     "output_type": "stream",
     "name": "stdout",
     "text": [
      "{1, 2, 3, 5, 8, 9, 77, 15}\n"
     ]
    }
   ],
   "source": [
    "my_set.remove(6)\n",
    "print(my_set)"
   ]
  },
  {
   "source": [
    "## Union & Intersection"
   ],
   "cell_type": "markdown",
   "metadata": {}
  },
  {
   "cell_type": "code",
   "execution_count": 12,
   "metadata": {},
   "outputs": [
    {
     "output_type": "stream",
     "name": "stdout",
     "text": [
      "{1, 2, 3, 4, 5, 6, 7, 8}\n{4, 5}\n"
     ]
    }
   ],
   "source": [
    "A = {1, 2, 3, 4, 5}\n",
    "B = {4, 5, 6, 7, 8}\n",
    "print(A | B)\n",
    "print(A & B)"
   ]
  },
  {
   "source": [
    "## Difference & Symmetric Difference"
   ],
   "cell_type": "markdown",
   "metadata": {}
  },
  {
   "source": [
    "print(A - B)\n",
    "\n",
    "print(A ^ B)"
   ],
   "cell_type": "code",
   "metadata": {},
   "execution_count": 13,
   "outputs": [
    {
     "output_type": "stream",
     "name": "stdout",
     "text": [
      "{1, 2, 3}\n{1, 2, 3, 6, 7, 8}\n"
     ]
    }
   ]
  },
  {
   "source": [
    "## 1. Write a Python program to remove an item from a set if it is present in the set."
   ],
   "cell_type": "markdown",
   "metadata": {}
  },
  {
   "cell_type": "code",
   "execution_count": 2,
   "metadata": {},
   "outputs": [
    {
     "output_type": "stream",
     "name": "stdout",
     "text": [
      "{1, 2, 3, 5, 6, 7, 8}\n"
     ]
    }
   ],
   "source": [
    "\n",
    "new_set = set([1, 2, 3, 4, 5, 6, 7, 8])\n",
    "\n",
    "new_set.discard(4)\n",
    "print(new_set)"
   ]
  },
  {
   "source": [
    "## 2. Write a Python program to create an intersection of sets."
   ],
   "cell_type": "markdown",
   "metadata": {}
  },
  {
   "cell_type": "code",
   "execution_count": 16,
   "metadata": {},
   "outputs": [
    {
     "output_type": "stream",
     "name": "stdout",
     "text": [
      "{1, 2, 3, 5, 8}\n"
     ]
    }
   ],
   "source": [
    "print(new_set & my_set)"
   ]
  },
  {
   "source": [
    "## 3. Write a Python program to create set difference."
   ],
   "cell_type": "markdown",
   "metadata": {}
  },
  {
   "cell_type": "code",
   "execution_count": 17,
   "metadata": {},
   "outputs": [
    {
     "output_type": "stream",
     "name": "stdout",
     "text": [
      "{6, 7}\n"
     ]
    }
   ],
   "source": [
    "print(new_set - my_set)"
   ]
  },
  {
   "source": [
    "## 4. Write a Python program to find maximum and the minimum value in a set."
   ],
   "cell_type": "markdown",
   "metadata": {}
  },
  {
   "cell_type": "code",
   "execution_count": 18,
   "metadata": {},
   "outputs": [
    {
     "output_type": "stream",
     "name": "stdout",
     "text": [
      "8\n1\n"
     ]
    }
   ],
   "source": [
    "print(max(new_set))\n",
    "print(min(my_set))"
   ]
  },
  {
   "source": [
    "## 5. Write a Python program to check if a set is a subset of another set."
   ],
   "cell_type": "markdown",
   "metadata": {}
  },
  {
   "cell_type": "code",
   "execution_count": 21,
   "metadata": {},
   "outputs": [
    {
     "output_type": "stream",
     "name": "stdout",
     "text": [
      "False\n"
     ]
    }
   ],
   "source": [
    "print(my_set.issubset(new_set))"
   ]
  },
  {
   "source": [
    "## 6. Write a Python program to find the length of a set."
   ],
   "cell_type": "markdown",
   "metadata": {}
  },
  {
   "cell_type": "code",
   "execution_count": 23,
   "metadata": {},
   "outputs": [
    {
     "output_type": "stream",
     "name": "stdout",
     "text": [
      "8\n7\n"
     ]
    }
   ],
   "source": [
    "print(len(my_set))\n",
    "print(len(new_set))"
   ]
  },
  {
   "source": [
    "## 7. Write a Python program to check if two given sets have no elements in common."
   ],
   "cell_type": "markdown",
   "metadata": {}
  },
  {
   "cell_type": "code",
   "execution_count": 24,
   "metadata": {},
   "outputs": [
    {
     "output_type": "stream",
     "name": "stdout",
     "text": [
      "False\n"
     ]
    }
   ],
   "source": [
    "print(my_set.isdisjoint(new_set))"
   ]
  },
  {
   "source": [
    "## 8.Write a Python program to find the elements in a given set that are not in another set. "
   ],
   "cell_type": "markdown",
   "metadata": {}
  },
  {
   "cell_type": "code",
   "execution_count": 25,
   "metadata": {},
   "outputs": [
    {
     "output_type": "stream",
     "name": "stdout",
     "text": [
      "{9, 77, 15}\n"
     ]
    }
   ],
   "source": [
    "print(my_set-new_set)"
   ]
  },
  {
   "cell_type": "code",
   "execution_count": 1,
   "metadata": {},
   "outputs": [
    {
     "output_type": "stream",
     "name": "stdout",
     "text": [
      "(('Prabhu',),) ((('Prabhu',),),) "
     ]
    }
   ],
   "source": [
    "t1= ('Prabhu',)\n",
    "for i in range(2):\n",
    "    t1=(t1,)\n",
    "    print(t1,end=\" \")"
   ]
  },
  {
   "cell_type": "code",
   "execution_count": 3,
   "metadata": {},
   "outputs": [],
   "source": [
    "prabhu_prasad=0\n",
    "\n",
    "PrabhuP=3\n",
    "_ = 4"
   ]
  },
  {
   "cell_type": "code",
   "execution_count": 4,
   "metadata": {},
   "outputs": [
    {
     "output_type": "execute_result",
     "data": {
      "text/plain": [
       "7"
      ]
     },
     "metadata": {},
     "execution_count": 4
    }
   ],
   "source": [
    "5*1**2//2+5"
   ]
  },
  {
   "cell_type": "code",
   "execution_count": 7,
   "metadata": {},
   "outputs": [
    {
     "output_type": "stream",
     "name": "stdout",
     "text": [
      "['o', 'u', 'e']\n"
     ]
    }
   ],
   "source": [
    "x=\"computer\"\n",
    "y=['a','e','i','o','u']\n",
    "print([i for i in x if i in y])"
   ]
  },
  {
   "cell_type": "code",
   "execution_count": null,
   "metadata": {},
   "outputs": [],
   "source": [
    "set1={15,25,35}\n",
    "s"
   ]
  },
  {
   "cell_type": "code",
   "execution_count": 4,
   "metadata": {},
   "outputs": [
    {
     "output_type": "stream",
     "name": "stdout",
     "text": [
      "{9, 77}\n"
     ]
    },
    {
     "output_type": "error",
     "ename": "TypeError",
     "evalue": "'set' object does not support item assignment",
     "traceback": [
      "\u001b[1;31m---------------------------------------------------------------------------\u001b[0m",
      "\u001b[1;31mTypeError\u001b[0m                                 Traceback (most recent call last)",
      "\u001b[1;32m<ipython-input-4-860ac2f02f81>\u001b[0m in \u001b[0;36m<module>\u001b[1;34m\u001b[0m\n\u001b[0;32m      2\u001b[0m \u001b[0mprint\u001b[0m\u001b[1;33m(\u001b[0m\u001b[0ma\u001b[0m\u001b[1;33m)\u001b[0m\u001b[1;33m\u001b[0m\u001b[1;33m\u001b[0m\u001b[0m\n\u001b[0;32m      3\u001b[0m \u001b[1;33m\u001b[0m\u001b[0m\n\u001b[1;32m----> 4\u001b[1;33m \u001b[0ma\u001b[0m\u001b[1;33m[\u001b[0m\u001b[1;36m0\u001b[0m\u001b[1;33m]\u001b[0m \u001b[1;33m=\u001b[0m \u001b[1;36m6\u001b[0m\u001b[1;33m\u001b[0m\u001b[1;33m\u001b[0m\u001b[0m\n\u001b[0m\u001b[0;32m      5\u001b[0m \u001b[1;33m\u001b[0m\u001b[0m\n",
      "\u001b[1;31mTypeError\u001b[0m: 'set' object does not support item assignment"
     ]
    }
   ],
   "source": [
    "a=my_set-new_set\n",
    "print(a)\n",
    "\n",
    "a[0] = 6\n",
    "\n"
   ]
  },
  {
   "cell_type": "code",
   "execution_count": 5,
   "metadata": {},
   "outputs": [
    {
     "output_type": "stream",
     "name": "stdout",
     "text": [
      "['a', 'e', 'i', '4', 'u']\n"
     ]
    }
   ],
   "source": [
    "y=['a','e','i','o','u']\n",
    "\n",
    "y[3]='4'\n",
    "\n",
    "print(y)"
   ]
  },
  {
   "cell_type": "code",
   "execution_count": null,
   "metadata": {},
   "outputs": [],
   "source": []
  }
 ]
}