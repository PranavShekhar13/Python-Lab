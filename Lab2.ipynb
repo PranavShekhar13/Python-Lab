{
 "cells": [
  {
   "attachments": {},
   "cell_type": "markdown",
   "metadata": {},
   "source": [
    "## *1. To fetch any particular data type.*"
   ]
  },
  {
   "cell_type": "code",
   "execution_count": 2,
   "metadata": {},
   "outputs": [
    {
     "name": "stdout",
     "output_type": "stream",
     "text": [
      "2.055\n"
     ]
    }
   ],
   "source": [
    "f = float(input(\"Enter the float\"))\n",
    "\n",
    "print(f)"
   ]
  },
  {
   "attachments": {},
   "cell_type": "markdown",
   "metadata": {},
   "source": [
    "## *2. To remove characters in strings except alphabets.*"
   ]
  },
  {
   "cell_type": "code",
   "execution_count": 3,
   "metadata": {},
   "outputs": [
    {
     "name": "stdout",
     "output_type": "stream",
     "text": [
      "Alphabets in string are :PranavShekhar\n"
     ]
    }
   ],
   "source": [
    "first = input('Enter String :')\n",
    "second = ''\n",
    "for i in first:\n",
    "    if (ord(i) >= 65 and ord(i) <= 90) or (ord(i) >= 97 and ord(i) <= 122):\n",
    "        second+=i\n",
    "print('Alphabets in string are :' + second)"
   ]
  },
  {
   "attachments": {},
   "cell_type": "markdown",
   "metadata": {},
   "source": [
    "## *3. To check pallindrome.*"
   ]
  },
  {
   "cell_type": "code",
   "execution_count": 4,
   "metadata": {},
   "outputs": [
    {
     "name": "stdout",
     "output_type": "stream",
     "text": [
      "string is palindrome\n"
     ]
    }
   ],
   "source": [
    "string=input(\"enter the string\")\n",
    "f=0\n",
    "length=len(string)\n",
    "for i in range (length):\n",
    "    if(string[i]!=string[length-i-1]):\n",
    "        f=1\n",
    "    break\n",
    "if(f==0):\n",
    "    print(\"string is palindrome\")\n",
    "\n",
    "else:\n",
    "    print(\"strng is not a palindrome\")"
   ]
  },
  {
   "attachments": {},
   "cell_type": "markdown",
   "metadata": {},
   "source": [
    "## *4. To sort string in dictionary order.*"
   ]
  },
  {
   "cell_type": "code",
   "execution_count": 13,
   "metadata": {},
   "outputs": [
    {
     "name": "stdout",
     "output_type": "stream",
     "text": [
      "apple\n",
      "ball\n",
      "cat\n",
      "dog\n"
     ]
    }
   ],
   "source": [
    "mystr=input(\"enter a string: \")\n",
    "mylist=mystr.split()\n",
    "mylist.sort()\n",
    "for word in mylist:\n",
    "    print(word)"
   ]
  },
  {
   "attachments": {},
   "cell_type": "markdown",
   "metadata": {},
   "source": [
    "## *5. To Find the Frequency of a Character.*"
   ]
  },
  {
   "cell_type": "code",
   "execution_count": 17,
   "metadata": {},
   "outputs": [
    {
     "name": "stdout",
     "output_type": "stream",
     "text": [
      "the frequency of character you entered is : 2\n"
     ]
    }
   ],
   "source": [
    "mystring=input(\"enter a string: \")\n",
    "character=input(\"enter the character ypu want to get the frequency of: \")\n",
    "c=0\n",
    "for i in mystring:\n",
    "    if(i==character):\n",
    "        c=c+1\n",
    "print(\"the frequency of character you entered is :\",c)"
   ]
  },
  {
   "cell_type": "code",
   "execution_count": null,
   "metadata": {},
   "outputs": [],
   "source": []
  }
 ],
 "metadata": {
  "kernelspec": {
   "display_name": "Python 3.10.9 ('base')",
   "language": "python",
   "name": "python3"
  },
  "language_info": {
   "codemirror_mode": {
    "name": "ipython",
    "version": 3
   },
   "file_extension": ".py",
   "mimetype": "text/x-python",
   "name": "python",
   "nbconvert_exporter": "python",
   "pygments_lexer": "ipython3",
   "version": "3.10.9"
  },
  "orig_nbformat": 4,
  "vscode": {
   "interpreter": {
    "hash": "ff73221d2bc27c35cbccbb758adee338587ef2297eda50e7c39f206266f1565f"
   }
  }
 },
 "nbformat": 4,
 "nbformat_minor": 2
}
