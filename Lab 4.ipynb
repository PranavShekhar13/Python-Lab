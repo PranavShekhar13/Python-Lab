{
 "cells": [
  {
   "source": [
    "# Lab 4 - 1828258 Pranav Shekhar"
   ],
   "cell_type": "markdown",
   "metadata": {}
  },
  {
   "source": [
    "## *1. Dictionary *"
   ],
   "cell_type": "markdown",
   "metadata": {}
  },
  {
   "cell_type": "code",
   "execution_count": 1,
   "metadata": {},
   "outputs": [
    {
     "name": "stdout",
     "output_type": "stream",
     "text": [
      "{'brand': 'BMW', 'model': 'S4', 'year': 1956}\n"
     ]
    }
   ],
   "source": [
    "newdict = {\n",
    "  \"brand\": \"BMW\",\n",
    "  \"model\": \"S4\",\n",
    "  \"year\": 1956\n",
    "}\n",
    "print(newdict)"
   ]
  },
  {
   "cell_type": "markdown",
   "metadata": {},
   "source": [
    "## *2. Dictionary Copy*"
   ]
  },
  {
   "cell_type": "code",
   "execution_count": 2,
   "metadata": {},
   "outputs": [
    {
     "name": "stdout",
     "output_type": "stream",
     "text": [
      "{'brand': 'BMW', 'model': 'S4', 'year': 1956}\n"
     ]
    }
   ],
   "source": [
    "newdict2 = {\n",
    "  \"brand\": \"BMW\",\n",
    "  \"model\": \"S4\",\n",
    "  \"year\": 1956\n",
    "}\n",
    "\n",
    "y = newdict2.copy()\n",
    "\n",
    "print(y)\n",
    "\n"
   ]
  },
  {
   "cell_type": "markdown",
   "metadata": {},
   "source": [
    "## *3. Dictionary Update and Delete.*"
   ]
  },
  {
   "cell_type": "code",
   "execution_count": 42,
   "metadata": {},
   "outputs": [
    {
     "name": "stdout",
     "output_type": "stream",
     "text": [
      "{'brand': 'BMW', 'model': 'S4', 'year': 1956, 'airbags': 'none'}\n"
     ]
    }
   ],
   "source": [
    "newdict3 = {\n",
    "  \"brand\": \"BMW\",\n",
    "  \"model\": \"S4\",\n",
    "  \"year\": 1956\n",
    "}\n",
    "\n",
    "z= newdict3.update({\"airbags\": \"none\"})\n",
    "\n",
    "print(newdict3)\n",
    "\n"
   ]
  },
  {
   "cell_type": "markdown",
   "metadata": {},
   "source": [
    "## *4. Python program with 7 Keys, Update The 3RD Key and delete second last key  from right*"
   ]
  },
  {
   "cell_type": "code",
   "execution_count": 10,
   "metadata": {},
   "outputs": [
    {
     "name": "stdout",
     "output_type": "stream",
     "text": [
      "{'name': 'Pranav', 'age': '20', 'year': '1999', 'roll': 258, 'sex': 'male', 'branch': 'csse', 'specifications': 'system'}\n",
      "{'name': 'Pranav', 'age': '20', 'year': '1999', 'roll': 258, 'sex': 'male', 'branch': 'csse'}\n"
     ]
    }
   ],
   "source": [
    "newdict4 = {\n",
    "  \"name\": \"Pranav\",\n",
    "  \"age\": \"20\",\n",
    "  \"year\": 2000,\n",
    "  \"roll\": 258,\n",
    "  \"sex\" : \"male\",\n",
    "  \"branch\": \"csse\",\n",
    "  \"specifications\": \"system\"\n",
    "}\n",
    "\n",
    "p= newdict4.update({\"year\": \"1999\"})\n",
    "\n",
    "print(newdict4)\n",
    "\n",
    "del newdict4[\"specifications\"]\n",
    "\n",
    "print(newdict4)"
   ]
  },
  {
   "cell_type": "markdown",
   "metadata": {},
   "source": [
    "## *5. WAP to Check if a given key already exists in a dictionary*"
   ]
  },
  {
   "cell_type": "code",
   "execution_count": 14,
   "metadata": {},
   "outputs": [
    {
     "name": "stdout",
     "output_type": "stream",
     "text": [
      "Key Exists\n"
     ]
    }
   ],
   "source": [
    "newdict5 = {\n",
    "  \"brand\": \"Audi\",\n",
    "  \"model\": \"A7\",\n",
    "  \"year\": 2020\n",
    "}\n",
    "if \"model\" in newdict5:\n",
    "  print(\"Key Exists\")\n",
    "else:\n",
    "  print(\"Key does not exists\")"
   ]
  },
  {
   "cell_type": "markdown",
   "metadata": {},
   "source": [
    "## *6. Dictionary Comprehension*"
   ]
  },
  {
   "cell_type": "code",
   "execution_count": 15,
   "metadata": {},
   "outputs": [
    {
     "name": "stdout",
     "output_type": "stream",
     "text": [
      "{0: 0, 1: 1, 2: 4, 3: 9, 4: 16, 5: 25, 6: 36, 7: 49, 8: 64}\n"
     ]
    }
   ],
   "source": [
    "squares = {x: x*x for x in range(9)}\n",
    "\n",
    "print(squares)"
   ]
  },
  {
   "cell_type": "markdown",
   "metadata": {},
   "source": [
    "## *7. Write a Python script to print a dictionary where the keys are numbers between 1 and 15 (both included) and the values are factorials of keys. *"
   ]
  },
  {
   "cell_type": "code",
   "execution_count": 19,
   "metadata": {},
   "outputs": [
    {
     "name": "stdout",
     "output_type": "stream",
     "text": [
      "{1: 1, 2: 4, 3: 9, 4: 16, 5: 25, 6: 36, 7: 49, 8: 64, 9: 81, 10: 100, 11: 121, 12: 144, 13: 169, 14: 196, 15: 225}\n"
     ]
    }
   ],
   "source": [
    "d=dict()\n",
    "for x in range(1,16):\n",
    "    d[x]=x**2\n",
    "print(d)"
   ]
  },
  {
   "cell_type": "markdown",
   "metadata": {},
   "source": [
    "## *8. Write a Python program to sort a dictionary by key. * "
   ]
  },
  {
   "cell_type": "code",
   "execution_count": 23,
   "metadata": {},
   "outputs": [
    {
     "name": "stdout",
     "output_type": "stream",
     "text": [
      "brand: Maruti\n",
      "model: 800\n",
      "year: 2021\n"
     ]
    }
   ],
   "source": [
    "newdict8 = {\n",
    "  \"brand\": \"Maruti\",\n",
    "  \"model\": \"800\",\n",
    "  \"year\": 2021\n",
    "}\n",
    "\n",
    "for key in sorted(newdict8):\n",
    "    print(\"%s: %s\" % (key, newdict8[key]))"
   ]
  },
  {
   "cell_type": "markdown",
   "metadata": {},
   "source": [
    "## *9. Write a Python program to filter a dictionary based on values. *"
   ]
  },
  {
   "cell_type": "code",
   "execution_count": 24,
   "metadata": {},
   "outputs": [
    {
     "name": "stdout",
     "output_type": "stream",
     "text": [
      "{'Pranav': 20, 'Praddyum': 25, 'Neelanjan': 30, 'Chandan': 31}\n",
      "{'Neelanjan': 30, 'Chandan': 31}\n"
     ]
    }
   ],
   "source": [
    "marks = {'Pranav': 20, 'Praddyum': 25, 'Neelanjan': 30, 'Chandan': 31}\n",
    "print(marks)\n",
    "result = {key:value for (key, value) in marks.items() if value > 25}\n",
    "print(result)\n"
   ]
  },
  {
   "cell_type": "markdown",
   "metadata": {},
   "source": [
    "## *10. Write a Python program to create and display all combinations of letters, selecting each letter from a different key in a dictionary.*"
   ]
  },
  {
   "cell_type": "code",
   "execution_count": 3,
   "metadata": {},
   "outputs": [
    {
     "name": "stdout",
     "output_type": "stream",
     "text": [
      "ace\n",
      "acf\n",
      "ade\n",
      "adf\n",
      "bce\n",
      "bcf\n",
      "bde\n",
      "bdf\n"
     ]
    }
   ],
   "source": [
    "def combination(x):\n",
    "    list1 = x.get('1')\n",
    "    list2 = x.get('2')\n",
    "    list3 = x.get('3')\n",
    "    for i in list1:\n",
    "        for j in list2:\n",
    "            for k in list3:\n",
    "                print(i+j+k)\n",
    "\n",
    "combination({'1':['a','b'], '2':['c','d'], '3':['e','f']})"
   ]
  },
  {
   "cell_type": "code",
   "execution_count": null,
   "metadata": {},
   "outputs": [],
   "source": []
  },
  {
   "cell_type": "markdown",
   "metadata": {},
   "source": [
    "# Home Assignment."
   ]
  },
  {
   "cell_type": "markdown",
   "metadata": {},
   "source": [
    "## *1. Write a Python program to find the average of highest 3 values in a dictionary.*"
   ]
  },
  {
   "cell_type": "code",
   "execution_count": 5,
   "metadata": {},
   "outputs": [
    {
     "name": "stdout",
     "output_type": "stream",
     "text": [
      "{'Pranav': 20, 'Praddyum': 29, 'Neelanjan': 30, 'Chandan': 30, 'Arnab': 28, 'Ayanava': 27}\n",
      "Average of highest 3 values =  29.666666666666668\n"
     ]
    }
   ],
   "source": [
    "\n",
    "dictionary={'Pranav': 20, 'Praddyum': 29, 'Neelanjan': 30, 'Chandan': 30, 'Arnab': 28, 'Ayanava': 27 }\n",
    "\n",
    "print(dictionary)\n",
    "\n",
    "values=[x for x in dictionary.values()]\n",
    "\n",
    "for i in range(0, len(values)):\n",
    "    for j in range(i, len(values)):\n",
    "        if values[i]>values[j]:\n",
    "            temp=values[i]\n",
    "            values[i]=values[j]\n",
    "            values[j]=temp\n",
    "\n",
    "average=(values[-1]+values[-2]+values[-3])/3\n",
    "\n",
    "print(\"Average of highest 3 values = \", average)"
   ]
  },
  {
   "cell_type": "markdown",
   "metadata": {},
   "source": [
    "## *2. Write a Python program to get the top FIVE items in an inventory.*"
   ]
  },
  {
   "cell_type": "code",
   "execution_count": 8,
   "metadata": {},
   "outputs": [
    {
     "name": "stdout",
     "output_type": "stream",
     "text": [
      "{'Pranav': 20, 'Praddyum': 28, 'Neelanjan': 30, 'Chandan': 26, 'Arnab': 28, 'Ayanava': 27, 'Ashish': 29}\n",
      "Top 5 values =  [30, 29, 28, 28, 27]\n"
     ]
    }
   ],
   "source": [
    "dictionary2={'Pranav': 20, 'Praddyum': 28, 'Neelanjan': 30, 'Chandan': 26, 'Arnab': 28, 'Ayanava': 27, 'Ashish': 29 }\n",
    "\n",
    "print(dictionary2)\n",
    "\n",
    "values=[x for x in dictionary2.values()]\n",
    "\n",
    "for i in range(0, len(values)):\n",
    "    for j in range(i, len(values)):\n",
    "        if values[i]<values[j]:\n",
    "            temp=values[i]\n",
    "            values[i]=values[j]\n",
    "            values[j]=temp\n",
    "\n",
    "print(\"Top 5 values = \", values[:5] )"
   ]
  },
  {
   "cell_type": "markdown",
   "metadata": {},
   "source": [
    "## *3. Write a Python program to replace dictionary values with their ASCII values.*"
   ]
  },
  {
   "cell_type": "code",
   "execution_count": 10,
   "metadata": {},
   "outputs": [
    {
     "name": "stdout",
     "output_type": "stream",
     "text": [
      "{'A': 'A', 'B': 'B', 'C': 'C', 'D': 'D', 'E': 'E'}\n",
      "ASCII Values:-  {'A': 65, 'B': 66, 'C': 67, 'D': 68, 'E': 69}\n"
     ]
    }
   ],
   "source": [
    "dictionary3={'A': 'A', 'B': 'B', 'C': 'C', 'D': 'D', 'E': 'E'}\n",
    "\n",
    "print(dictionary3)\n",
    "\n",
    "\n",
    "for i in dictionary3.values():\n",
    "    dictionary3[i]=ord(dictionary3[i])\n",
    "\n",
    "print(\"ASCII Values:- \", dictionary3)\n",
    "\n",
    "\n"
   ]
  },
  {
   "cell_type": "markdown",
   "metadata": {},
   "source": [
    "## *4. Write a Python program to create a dictionary of keys p, q, and r where each key has as value a list from 101-120, 201-220, and 301-320 respectively. Display the seventh (both from beginning and end)value of each key from the dictionary.*"
   ]
  },
  {
   "cell_type": "code",
   "execution_count": 21,
   "metadata": {},
   "outputs": [
    {
     "name": "stdout",
     "output_type": "stream",
     "text": [
      "For Key :- p\n",
      "Seventh value from beginning :-  107\n",
      "Seventh value from end :-  114\n",
      "For Key :- q\n",
      "Seventh value from beginning :-  207\n",
      "Seventh value from end :-  214\n",
      "For Key :- r\n",
      "Seventh value from beginning :-  307\n",
      "Seventh value from end :-  314\n"
     ]
    }
   ],
   "source": [
    "dictionary4={'p': [x for x in range(101,121)], 'q': [x for x in range(201,221)], 'r': [x for x in range(301,321)]}\n",
    "\n",
    "for i in dictionary4.keys():\n",
    "   print(\"For Key :-\", i)\n",
    "   print(\"Seventh value from beginning :- \",dictionary4[i][6])\n",
    "   print(\"Seventh value from end :- \", dictionary4[i][-7])"
   ]
  },
  {
   "cell_type": "code",
   "execution_count": null,
   "metadata": {},
   "outputs": [],
   "source": []
  }
 ],
 "metadata": {
  "kernelspec": {
   "display_name": "Python 3",
   "language": "python",
   "name": "python3"
  },
  "language_info": {
   "codemirror_mode": {
    "name": "ipython",
    "version": 3
   },
   "file_extension": ".py",
   "mimetype": "text/x-python",
   "name": "python",
   "nbconvert_exporter": "python",
   "pygments_lexer": "ipython3",
   "version": "3.6.8"
  }
 },
 "nbformat": 4,
 "nbformat_minor": 2
}