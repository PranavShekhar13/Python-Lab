{
 "cells": [
  {
   "source": [
    "# Lab 13 - 1828258 Pranav Shekhar"
   ],
   "cell_type": "markdown",
   "metadata": {}
  },
  {
   "cell_type": "markdown",
   "metadata": {},
   "source": [
    "# Inheritance"
   ]
  },
  {
   "cell_type": "markdown",
   "metadata": {},
   "source": [
    "## Single Inheritance"
   ]
  },
  {
   "cell_type": "code",
   "execution_count": 2,
   "metadata": {},
   "outputs": [
    {
     "name": "stdout",
     "output_type": "stream",
     "text": [
      "dog barking\n",
      "Animal Speaking\n"
     ]
    }
   ],
   "source": [
    "class Animal:  \n",
    "    def speak(self):  \n",
    "        print(\"Animal Speaking\")   \n",
    "class Dog(Animal):  \n",
    "    def bark(self):  \n",
    "        print(\"dog barking\")  \n",
    "d = Dog()  \n",
    "d.bark()  \n",
    "d.speak() "
   ]
  },
  {
   "cell_type": "markdown",
   "metadata": {},
   "source": [
    "## Multilevel Inheritance"
   ]
  },
  {
   "cell_type": "code",
   "execution_count": 3,
   "metadata": {},
   "outputs": [
    {
     "name": "stdout",
     "output_type": "stream",
     "text": [
      "dog barking\n",
      "Animal Speaking\n",
      "Eating bread...\n"
     ]
    }
   ],
   "source": [
    "class Animal:  \n",
    "    def speak(self):  \n",
    "        print(\"Animal Speaking\")  \n",
    "class Dog(Animal):  \n",
    "    def bark(self):  \n",
    "        print(\"dog barking\")  \n",
    "class DogChild(Dog):  \n",
    "    def eat(self):  \n",
    "        print(\"Eating bread...\")  \n",
    "d = DogChild()  \n",
    "d.bark()  \n",
    "d.speak()  \n",
    "d.eat() "
   ]
  },
  {
   "cell_type": "markdown",
   "metadata": {},
   "source": [
    "## Multiple Inheritance"
   ]
  },
  {
   "cell_type": "code",
   "execution_count": 4,
   "metadata": {},
   "outputs": [
    {
     "name": "stdout",
     "output_type": "stream",
     "text": [
      "30\n",
      "200\n",
      "0.5\n"
     ]
    }
   ],
   "source": [
    "class Calculation1:  \n",
    "    def Summation(self,a,b):  \n",
    "        return a+b  \n",
    "class Calculation2:  \n",
    "    def Multiplication(self,a,b):  \n",
    "        return a*b  \n",
    "class Derived(Calculation1,Calculation2):  \n",
    "    def Divide(self,a,b):  \n",
    "        return a/b  \n",
    "d = Derived()  \n",
    "print(d.Summation(10,20))  \n",
    "print(d.Multiplication(10,20))  \n",
    "print(d.Divide(10,20)) "
   ]
  },
  {
   "cell_type": "markdown",
   "metadata": {},
   "source": [
    "## Hierarchical Inheritance"
   ]
  },
  {
   "cell_type": "code",
   "execution_count": 5,
   "metadata": {},
   "outputs": [
    {
     "name": "stdout",
     "output_type": "stream",
     "text": [
      "Barking!\n",
      "Animal Speaking\n",
      "Meow!!\n",
      "Animal Speaking\n"
     ]
    }
   ],
   "source": [
    "class Animal:  \n",
    "    def speak(self):  \n",
    "        print(\"Animal Speaking\")  \n",
    "class Dog(Animal):  \n",
    "    def bark(self):  \n",
    "        print(\"Barking!\")  \n",
    "class Cat(Animal):  \n",
    "    def sound(self):  \n",
    "        print(\"Meow!!\")  \n",
    "d = Dog()  \n",
    "d.bark()  \n",
    "d.speak()  \n",
    "\n",
    "c = Cat()\n",
    "c.sound()\n",
    "c.speak()"
   ]
  },
  {
   "cell_type": "markdown",
   "metadata": {},
   "source": [
    "## 1. WAP TO REPRESENT HIERARCHIAL INHERITANCE\n",
    "\n"
   ]
  },
  {
   "cell_type": "code",
   "execution_count": 6,
   "metadata": {},
   "outputs": [
    {
     "name": "stdout",
     "output_type": "stream",
     "text": [
      "Barking!\n",
      "Animal Speaking\n",
      "Meow!!\n",
      "Animal Speaking\n"
     ]
    }
   ],
   "source": [
    "class Animal:  \n",
    "    def speak(self):  \n",
    "        print(\"Animal Speaking\")  \n",
    "class Dog(Animal):  \n",
    "    def bark(self):  \n",
    "        print(\"Barking!\")  \n",
    "class Cat(Animal):  \n",
    "    def sound(self):  \n",
    "        print(\"Meow!!\")  \n",
    "d = Dog()  \n",
    "d.bark()  \n",
    "d.speak()  \n",
    "\n",
    "c = Cat()\n",
    "c.sound()\n",
    "c.speak()"
   ]
  },
  {
   "cell_type": "markdown",
   "metadata": {},
   "source": [
    "#### 2. Create a class named 'Member' having the following members:\n",
    "Data members\n",
    "1 - Name\n",
    "2 - Age\n",
    "3 - Phone number\n",
    "4 - Address\n",
    "5 - Salary\n",
    "It also has a method named 'printSalary' which prints the salary of the members.\n",
    "Two classes 'Employee' and 'Manager' inherits the 'Member' class. The 'Employee' and 'Manager' classes have data members 'specialization' and 'department' respectively. Now, assign name, age, phone number, address and salary to an employee and a manager by making an object of both of these."
   ]
  },
  {
   "cell_type": "code",
   "execution_count": 1,
   "metadata": {},
   "outputs": [
    {
     "name": "stdout",
     "output_type": "stream",
     "text": [
      "Enter Specialization of Employee:- IT\n",
      "Enter Department of Employee:- Tech\n",
      "Enter Name:-  Pranav\n",
      "Enter Age:-  21\n",
      "Enter Phone Number:- 123\n",
      "Enter Address:- pran13@abc.com\n",
      "Enter Salary:- 30000\n",
      "Pranav 21 30000\n",
      "Enter Specialization of Manager:- Marketing\n",
      "Enter Department of Manager:- Sales\n",
      "Enter Name:-  Sanket\n",
      "Enter Age:-  21\n",
      "Enter Phone Number:- 456\n",
      "Enter Address:- sanket456@abc.com\n",
      "Enter Salary:- 32000\n",
      "Sanket 21 32000\n"
     ]
    }
   ],
   "source": [
    "class Member():\n",
    "    def details(self):\n",
    "        self.name=input(\"Enter Name:-  \")\n",
    "        self.age=int(input(\"Enter Age:-  \"))\n",
    "        self.phone=input(\"Enter Phone Number:- \")\n",
    "        self.address=input(\"Enter Address:- \")\n",
    "        self.salary=input(\"Enter Salary:- \")\n",
    "\n",
    "    def printSalary(self):\n",
    "        print(self.name, self.age, self.salary)\n",
    "\n",
    "class Employee(Member):\n",
    "    def __init__(self):\n",
    "        self.specialization=input(\"Enter Specialization of Employee:- \")\n",
    "        self.department=input(\"Enter Department of Employee:- \")\n",
    "\n",
    "class Manager(Member):\n",
    "    def __init__(self):\n",
    "        self.specialization=input(\"Enter Specialization of Manager:- \")\n",
    "        self.department=input(\"Enter Department of Manager:- \")\n",
    "\n",
    "\n",
    "e = Employee()\n",
    "\n",
    "e.details()\n",
    "e.printSalary()\n",
    "\n",
    "\n",
    "m = Manager()\n",
    "\n",
    "m.details()\n",
    "m.printSalary()\n",
    "\n",
    "\n",
    "\n",
    "        "
   ]
  },
  {
   "cell_type": "markdown",
   "metadata": {},
   "source": [
    "#### 3. Create a class with a method that prints \"This is parent class\" and its subclass with another method that prints \"This is child class\". Now, create an object for each of the class and call 1 - method of parent class by object of parent class. 2 - method of child class by object of child class. 3 - method of parent class by object of child class."
   ]
  },
  {
   "cell_type": "code",
   "execution_count": 10,
   "metadata": {},
   "outputs": [
    {
     "name": "stdout",
     "output_type": "stream",
     "text": [
      "This is parent class\n",
      "This is child class\n",
      "This is parent class\n"
     ]
    }
   ],
   "source": [
    "class Parent:  \n",
    "    def funParent(self):  \n",
    "        print(\"This is parent class\")   \n",
    "class Child(Parent):  \n",
    "    def funChild(self):  \n",
    "        print(\"This is child class\")  \n",
    "obj = Parent()\n",
    "obj.funParent() \n",
    "\n",
    "obj2 = Child()\n",
    "obj2.funChild()\n",
    "\n",
    "obj2.funParent() "
   ]
  },
  {
   "cell_type": "markdown",
   "metadata": {},
   "source": [
    "#### 4. Create a class named 'Shape' with a method to print \"This is This is shape\". Then create two other classes named 'Rectangle', 'Circle' inheriting the Shape class, both having a method to print \"This is rectangular shape\" and \"This is circular shape\" respectively. Create a subclass 'Square' of 'Rectangle' having a method to print \"Square is a rectangle\". Now call the method of 'Shape' and 'Rectangle' class by the object of 'Square' class."
   ]
  },
  {
   "cell_type": "code",
   "execution_count": 11,
   "metadata": {},
   "outputs": [
    {
     "name": "stdout",
     "output_type": "stream",
     "text": [
      "This is This is shape\n",
      "This is rectangular shape\n"
     ]
    }
   ],
   "source": [
    "class Shape:  \n",
    "    def funShape(self):  \n",
    "        print(\"This is This is shape\")   \n",
    "class Rectangle(Shape):  \n",
    "    def funRectangle(self):  \n",
    "        print(\"This is rectangular shape\") \n",
    "\n",
    "class Circle(Shape):  \n",
    "    def funCircle(self):  \n",
    "        print(\"This is circular shape\") \n",
    "\n",
    "class Square(Rectangle):\n",
    "    def funSquare(self):\n",
    "        print(\"Square is a rectangle\") \n",
    "\n",
    "\n",
    "obj = Square()\n",
    "\n",
    "obj.funShape()\n",
    "obj.funRectangle()"
   ]
  },
  {
   "source": [
    "#### 5. Create a class named 'Rectangle' with two data members 'length' and 'breadth' and two methods to print the area and perimeter of the rectangle respectively. Its constructor having parameters for length and breadth is used to initialize length and breadth of the rectangle. Let class 'Square' inherit the 'Rectangle' class with its constructor having a parameter for its side (suppose s) calling the constructor of its parent class as 'super(s,s)'. Print the area and perimeter of a rectangle and a square."
   ],
   "cell_type": "markdown",
   "metadata": {}
  },
  {
   "source": [
    "class Rectangle():\n",
    "    def __init__(self, l, b):\n",
    "        self.length = l\n",
    "        self.breadth = b\n",
    "\t\t\n",
    "    def getArea(self):\n",
    "        return self.length * self.breadth\n",
    "\t\t\n",
    "    def getPerimeter(self):\n",
    "        return 2*(self.length + self.breadth)\n",
    "\t\t\n",
    "class Square(Rectangle):\n",
    "    def __init__(self, s):\n",
    "        self.side = s\n",
    "        super().__init__(self.side, self.side)\n",
    "        \n",
    "rect = Square(5)\n",
    "\n",
    "print(rect.getArea())\n",
    "print(rect.getPerimeter())"
   ],
   "cell_type": "code",
   "metadata": {},
   "execution_count": 2,
   "outputs": [
    {
     "output_type": "stream",
     "name": "stdout",
     "text": [
      "25\n20\n"
     ]
    }
   ]
  },
  {
   "source": [
    "#### 6. Create a class with a method. The method has to decide whether a given year is a leap year or not. Note- A year is a leap year if: • It has an extra day i.e. 366 instead of 365. • It occurs in every 4 year e.g. 2008, 2012 are leap years. • For every 100 years a special rule applies-1900 is not a leap year but 2000 is a leap year. In those cases, we need to check whether it is divisible by 400 or not."
   ],
   "cell_type": "markdown",
   "metadata": {}
  },
  {
   "cell_type": "code",
   "execution_count": 3,
   "metadata": {},
   "outputs": [
    {
     "output_type": "stream",
     "name": "stdout",
     "text": [
      "2000 is a leap year\n"
     ]
    }
   ],
   "source": [
    "\n",
    "\n",
    "class leapYear:\n",
    "    def checkLeapYear(self, year):\n",
    "        if (year % 4) == 0:\n",
    "            if (year % 100) == 0:\n",
    "                if (year % 400) == 0:\n",
    "                    print(\"{0} is a leap year\".format(year))\n",
    "                else:\n",
    "                    print(\"{0} is not a leap year\".format(year))\n",
    "            else:\n",
    "                print(\"{0} is a leap year\".format(year))\n",
    "        else:\n",
    "            print(\"{0} is not a leap year\".format(year))\n",
    "\n",
    "\n",
    "obj = leapYear()\n",
    "obj.checkLeapYear(2000)"
   ]
  },
  {
   "cell_type": "code",
   "execution_count": null,
   "metadata": {},
   "outputs": [],
   "source": []
  }
 ],
 "metadata": {
  "kernelspec": {
   "display_name": "Python 3",
   "language": "python",
   "name": "python3"
  },
  "language_info": {
   "codemirror_mode": {
    "name": "ipython",
    "version": 3
   },
   "file_extension": ".py",
   "mimetype": "text/x-python",
   "name": "python",
   "nbconvert_exporter": "python",
   "pygments_lexer": "ipython3",
   "version": "3.7.6-final"
  },
  "varInspector": {
   "cols": {
    "lenName": 16,
    "lenType": 16,
    "lenVar": 40
   },
   "kernels_config": {
    "python": {
     "delete_cmd_postfix": "",
     "delete_cmd_prefix": "del ",
     "library": "var_list.py",
     "varRefreshCmd": "print(var_dic_list())"
    },
    "r": {
     "delete_cmd_postfix": ") ",
     "delete_cmd_prefix": "rm(",
     "library": "var_list.r",
     "varRefreshCmd": "cat(var_dic_list()) "
    }
   },
   "types_to_exclude": [
    "module",
    "function",
    "builtin_function_or_method",
    "instance",
    "_Feature"
   ],
   "window_display": false
  }
 },
 "nbformat": 4,
 "nbformat_minor": 2
}