{
 "metadata": {
  "language_info": {
   "codemirror_mode": {
    "name": "ipython",
    "version": 3
   },
   "file_extension": ".py",
   "mimetype": "text/x-python",
   "name": "python",
   "nbconvert_exporter": "python",
   "pygments_lexer": "ipython3",
   "version": "3.6.8"
  },
  "orig_nbformat": 2,
  "kernelspec": {
   "name": "python368jvsc74a57bd07c94d32e572778f173b9c5c1ef4f05bc2ec293e2da62ab8bc3bedc7c9ebe6715",
   "display_name": "Python 3.6.8 64-bit ('my_personal_lab': conda)"
  }
 },
 "nbformat": 4,
 "nbformat_minor": 2,
 "cells": [
  {
   "source": [
    "# Lab 5 - 1828258 Pranav Shekhar"
   ],
   "cell_type": "markdown",
   "metadata": {}
  },
  {
   "source": [
    "## *1. Write a Python program to find the average of lowest 3 values in a dictionary.*"
   ],
   "cell_type": "markdown",
   "metadata": {}
  },
  {
   "cell_type": "code",
   "execution_count": null,
   "metadata": {},
   "outputs": [],
   "source": [
    "dictionary={'Pranav': 20, 'Praddyum': 29, 'Neelanjan': 30, 'Chandan': 30, 'Arnab': 28, 'Ayanava': 27 }\n",
    "\n",
    "print(dictionary)\n",
    "\n",
    "values=[x for x in dictionary.values()]\n",
    "\n",
    "for i in range(0, len(values)):\n",
    "    for j in range(i, len(values)):\n",
    "        if values[i]>values[j]:\n",
    "            temp=values[i]\n",
    "            values[i]=values[j]\n",
    "            values[j]=temp\n",
    "\n",
    "average=(values[0]+values[1]+values[2])/3\n",
    "\n",
    "print(\"Average of lowest 3 values = \", average)"
   ]
  },
  {
   "source": [
    "## *2. WAP TO PRINT A DICT WITH 8 KEYS, UPDATE THE MIDDLE KEY AND DELETE SECOND LAST KEY  FROM RIGHT.*"
   ],
   "cell_type": "markdown",
   "metadata": {}
  },
  {
   "cell_type": "code",
   "execution_count": null,
   "metadata": {},
   "outputs": [],
   "source": [
    "d = {1: \"one\", 2: \"two\", 3: \"three\", 4: \"four\", 5: \"five\", 6: \"six\", 7: \"seven\", 8: \"eight\"}\n",
    "print(d)\n",
    "d1 = {(len(d)/2): \"FOUR\"}\n",
    "d.update(d1)\n",
    "print(d)\n",
    "\n",
    "del d[7]\n",
    "print(d)"
   ]
  },
  {
   "source": [
    "## *3. Write a Python program to get the frequency of the second last element  in a list.*"
   ],
   "cell_type": "markdown",
   "metadata": {}
  },
  {
   "cell_type": "code",
   "execution_count": null,
   "metadata": {},
   "outputs": [],
   "source": [
    " \n",
    "Lis = [7, 2, 5, 7, 1, 7, 8] \n",
    "dicti= {} \n",
    "  \n",
    "second_last = Lis[-2]\n",
    "\n",
    "for i in Lis: \n",
    "    if i in dicti: \n",
    "        dicti[i] += 1\n",
    "    else: \n",
    "        dicti[i] = 1\n",
    "          \n",
    "print(dicti[second_last])\n"
   ]
  },
  {
   "source": [
    "n = int(input())\n",
    "\n",
    "directory = {}\n",
    "lis =[]\n",
    "\n",
    "for i in range(0,n):\n",
    "    name=input()\n",
    "    number=input()\n",
    "    directory[name]=number\n",
    "\n",
    "for i in range(0,n):\n",
    "    search=input()\n",
    "    lis.append(search)\n",
    "\n",
    "for e in lis:\n",
    "    if e in directory:\n",
    "        print(e+\"=\"+directory[e][0:])\n",
    "        break\n",
    "    else:\n",
    "        print(\"Not Found\")\n",
    "        \n"
   ],
   "cell_type": "code",
   "metadata": {},
   "execution_count": 3,
   "outputs": [
    {
     "output_type": "stream",
     "name": "stdout",
     "text": [
      "Not Found\n",
      "Pran=123\n"
     ]
    }
   ]
  },
  {
   "cell_type": "code",
   "execution_count": 23,
   "metadata": {},
   "outputs": [
    {
     "output_type": "execute_result",
     "data": {
      "text/plain": [
       "'o'"
      ]
     },
     "metadata": {},
     "execution_count": 23
    }
   ],
   "source": [
    "d = {1: \"one\", 2: \"two\", 3: \"three\", 4: \"four\", 5: \"five\", 6: \"six\", 7: \"seven\", 8: \"eight\"}\n",
    "\n",
    "d[1][0]"
   ]
  },
  {
   "cell_type": "code",
   "execution_count": 4,
   "metadata": {},
   "outputs": [
    {
     "output_type": "stream",
     "name": "stdout",
     "text": [
      "sam=99912222\n"
     ]
    }
   ],
   "source": [
    "n = int(input())\n",
    "\n",
    "directory = {}\n",
    "lis =[]\n",
    "\n",
    "for i in range(0,n):\n",
    "    name, number =input().split(\" \")\n",
    "    directory[name]=number\n",
    "\n",
    "for i in range(0,n):\n",
    "    search=input()\n",
    "    lis.append(search)\n",
    "\n",
    "for e in lis:\n",
    "    if e in directory:\n",
    "        print(e+\"=\"+directory[e][0:])\n",
    "        break\n",
    "    else:\n",
    "        print(\"Not Found\")\n"
   ]
  },
  {
   "source": [
    "def DecimalToBinary(num):\n",
    "    \n",
    "    return bin(num).replace(\"0b\", \"\")\n",
    " \n",
    "\n",
    "dec_val = 6\n",
    "     \n",
    "   \n",
    "b= DecimalToBinary(dec_val)\n",
    "\n",
    "print(type(b))\n",
    "\n",
    "print(b)"
   ],
   "cell_type": "code",
   "metadata": {},
   "execution_count": 23,
   "outputs": [
    {
     "output_type": "error",
     "ename": "Error",
     "evalue": "connect ECONNREFUSED 127.0.0.1:60031",
     "traceback": [
      "Error: connect ECONNREFUSED 127.0.0.1:60031",
      "at TCPConnectWrap.afterConnect [as oncomplete] (net.js:1141:16)"
     ]
    }
   ]
  },
  {
   "cell_type": "code",
   "execution_count": null,
   "metadata": {},
   "outputs": [],
   "source": []
  }
 ]
}