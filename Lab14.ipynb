{
 "metadata": {
  "language_info": {
   "codemirror_mode": {
    "name": "ipython",
    "version": 3
   },
   "file_extension": ".py",
   "mimetype": "text/x-python",
   "name": "python",
   "nbconvert_exporter": "python",
   "pygments_lexer": "ipython3",
   "version": "3.6.8-final"
  },
  "orig_nbformat": 2,
  "kernelspec": {
   "name": "python3",
   "display_name": "Python 3.6.8 64-bit",
   "metadata": {
    "interpreter": {
     "hash": "7c94d32e572778f173b9c5c1ef4f05bc2ec293e2da62ab8bc3bedc7c9ebe6715"
    }
   }
  }
 },
 "nbformat": 4,
 "nbformat_minor": 2,
 "cells": [
  {
   "source": [
    "# Lab 14 - 1828258 Pranav Shekhar"
   ],
   "cell_type": "markdown",
   "metadata": {}
  },
  {
   "source": [
    "## N-Dimensional Array"
   ],
   "cell_type": "markdown",
   "metadata": {}
  },
  {
   "cell_type": "code",
   "execution_count": 1,
   "metadata": {},
   "outputs": [
    {
     "output_type": "stream",
     "name": "stdout",
     "text": [
      "[1 2 3]\n"
     ]
    }
   ],
   "source": [
    "import numpy as np\n",
    "\n",
    "a = np.array([1,2,3])\n",
    "\n",
    "print(a)"
   ]
  },
  {
   "cell_type": "code",
   "execution_count": 3,
   "metadata": {},
   "outputs": [
    {
     "output_type": "stream",
     "name": "stdout",
     "text": [
      "[[1 2]\n [3 4]]\n"
     ]
    }
   ],
   "source": [
    " b = np.array([[1,2],[3,4]])\n",
    "\n",
    "print(b)"
   ]
  },
  {
   "cell_type": "code",
   "execution_count": 5,
   "metadata": {},
   "outputs": [
    {
     "output_type": "stream",
     "name": "stdout",
     "text": [
      "[[1 2 3 4]]\n"
     ]
    }
   ],
   "source": [
    "c = np.array([1,2,3,4], ndmin=2)\n",
    "print(c)"
   ]
  },
  {
   "cell_type": "code",
   "execution_count": 6,
   "metadata": {},
   "outputs": [
    {
     "output_type": "stream",
     "name": "stdout",
     "text": [
      "[1.+0.j 2.+0.j 3.+0.j 4.+0.j]\n"
     ]
    }
   ],
   "source": [
    "d = np.array([1,2,3,4], dtype=complex)\n",
    "print(d)"
   ]
  },
  {
   "source": [
    "## Parameters of data type - numpy.dtype(object, align, copy)"
   ],
   "cell_type": "markdown",
   "metadata": {}
  },
  {
   "source": [
    "## Slicing"
   ],
   "cell_type": "markdown",
   "metadata": {}
  },
  {
   "cell_type": "code",
   "execution_count": 8,
   "metadata": {},
   "outputs": [
    {
     "output_type": "stream",
     "name": "stdout",
     "text": [
      "[3 4 5 6 7]\n"
     ]
    }
   ],
   "source": [
    "arr = np.array([1, 2, 3, 4, 5, 6, 7,8,9,10,11,12])\n",
    "\n",
    "print(arr[2:7])"
   ]
  },
  {
   "cell_type": "code",
   "execution_count": 11,
   "metadata": {},
   "outputs": [
    {
     "output_type": "stream",
     "name": "stdout",
     "text": [
      "[2 4 6]\n"
     ]
    }
   ],
   "source": [
    "arr = np.arange(10)\n",
    "\n",
    "s = slice(2,7,2)\n",
    "\n",
    "print(arr[s])"
   ]
  },
  {
   "source": [
    "## WAP to slice a single value from a certain array."
   ],
   "cell_type": "markdown",
   "metadata": {}
  },
  {
   "cell_type": "code",
   "execution_count": 12,
   "metadata": {},
   "outputs": [
    {
     "output_type": "stream",
     "name": "stdout",
     "text": [
      "[2]\n"
     ]
    }
   ],
   "source": [
    "arr = np.arange(30)\n",
    "\n",
    "s = slice(2,3,1)\n",
    "\n",
    "print(arr[s])"
   ]
  },
  {
   "cell_type": "code",
   "execution_count": 13,
   "metadata": {},
   "outputs": [
    {
     "output_type": "stream",
     "name": "stdout",
     "text": [
      "[[1 2]\n [3 4]\n [5 6]]\n"
     ]
    }
   ],
   "source": [
    "x = np.array([[1, 2], [3, 4], [5, 6]]) \n",
    "\n",
    "print(x)"
   ]
  },
  {
   "cell_type": "code",
   "execution_count": 14,
   "metadata": {},
   "outputs": [
    {
     "output_type": "stream",
     "name": "stdout",
     "text": [
      "[1 2 3]\n"
     ]
    }
   ],
   "source": [
    "x = np.array([[1, 2], [3, 4], [5, 6]]) \n",
    "\n",
    "y = x[[0,0,1], [0,1,0]]\n",
    "\n",
    "z= x[[]]\n",
    "\n",
    "print(y)"
   ]
  },
  {
   "source": [
    "## Illustrate integer indexing in a 5 x 3 array."
   ],
   "cell_type": "markdown",
   "metadata": {}
  },
  {
   "cell_type": "code",
   "execution_count": 22,
   "metadata": {},
   "outputs": [
    {
     "output_type": "stream",
     "name": "stdout",
     "text": [
      "[[ 1  2  3]\n [ 4  5  6]\n [ 7  8  9]\n [10 11 12]\n [13 14 15]]\n[1 2 4 7]\n"
     ]
    }
   ],
   "source": [
    "x = np.array([[1, 2, 3], [4, 5, 6], [7, 8, 9], [10, 11, 12], [13, 14, 15]]) \n",
    "\n",
    "print(x)\n",
    "\n",
    "y = x[[0,0,1,2], [0,1,0,0]]\n",
    "\n",
    "\n",
    "print(y)"
   ]
  },
  {
   "source": [
    "## Iteration -  numpy.nditer"
   ],
   "cell_type": "markdown",
   "metadata": {}
  },
  {
   "cell_type": "code",
   "execution_count": 18,
   "metadata": {},
   "outputs": [
    {
     "output_type": "stream",
     "name": "stdout",
     "text": [
      "[[ 0  5 10 15 20]\n [25 30 35 40 45]\n [50 55 60 65 70]\n [75 80 85 90 95]]\n0\n5\n10\n15\n20\n25\n30\n35\n40\n45\n50\n55\n60\n65\n70\n75\n80\n85\n90\n95\n"
     ]
    }
   ],
   "source": [
    "a = np.arange(0,100,5)\n",
    "\n",
    "a = a.reshape(4,5)\n",
    "\n",
    "print(a)\n",
    "\n",
    "for num in np.nditer(a):\n",
    "    print(num)"
   ]
  },
  {
   "cell_type": "code",
   "execution_count": 23,
   "metadata": {},
   "outputs": [
    {
     "output_type": "stream",
     "name": "stdout",
     "text": [
      "Original array is:\n[[ 0  5 10 15]\n [20 25 30 35]\n [40 45 50 55]\n [60 65 70 75]]\n\n\nTranspose of the original array is:\n[[ 0 20 40 60]\n [ 5 25 45 65]\n [10 30 50 70]\n [15 35 55 75]]\n\n\nSorted in C order:\n[[ 0 20 40 60]\n [ 5 25 45 65]\n [10 30 50 70]\n [15 35 55 75]]\n0\n20\n40\n60\n5\n25\n45\n65\n10\n30\n50\n70\n15\n35\n55\n75\n\n\nSorted in F-order:\n[[ 0 20 40 60]\n [ 5 25 45 65]\n [10 30 50 70]\n [15 35 55 75]]\n0\n5\n10\n15\n20\n25\n30\n35\n40\n45\n50\n55\n60\n65\n70\n75\n"
     ]
    }
   ],
   "source": [
    "a = np.arange(0,80,5)\n",
    "a = a.reshape(4,4)\n",
    "print ('Original array is:')\n",
    "print (a)\n",
    "print ('\\n')\n",
    "\n",
    "print ('Transpose of the original array is:')\n",
    "b = a.T\n",
    "print (b)\n",
    "print('\\n') \n",
    "\n",
    "print ('Sorted in C order:')\n",
    "c = b.copy(order = 'C')\n",
    "print (c)\n",
    "for x in np.nditer(c):\n",
    "   print (x),\n",
    "\n",
    "print ('\\n')\n",
    "\n",
    "print ('Sorted in F-order:')\n",
    "c = b.copy(order = 'F')\n",
    "print (c)\n",
    "for x in np.nditer(c):\n",
    "   print (x),"
   ]
  },
  {
   "source": [
    "## 1. WAP TO FIND ROUND OFF VALUES OF DECIMAL POINTS."
   ],
   "cell_type": "markdown",
   "metadata": {}
  },
  {
   "cell_type": "code",
   "execution_count": 27,
   "metadata": {},
   "outputs": [
    {
     "output_type": "stream",
     "name": "stdout",
     "text": [
      "[[1.5555   2.6666  ]\n [3.333333 4.44444 ]\n [5.777777 6.555555]]\n1.56\n2.67\n3.33\n4.44\n5.78\n6.56\n"
     ]
    }
   ],
   "source": [
    "x = np.array([[1.5555, 2.6666], [3.333333, 4.44444], [5.777777, 6.555555]]) \n",
    "\n",
    "print(x)\n",
    "\n",
    "for num in np.nditer(x):\n",
    "    print(np.round(num,2))"
   ]
  },
  {
   "source": [
    "## 2. WAP TO DEMOSNTRATE BASIC ARITHMATIC OPERATIONS ON ARRAY."
   ],
   "cell_type": "markdown",
   "metadata": {}
  },
  {
   "cell_type": "code",
   "execution_count": 30,
   "metadata": {},
   "outputs": [
    {
     "output_type": "stream",
     "name": "stdout",
     "text": [
      "[[0 1 2]\n [3 4 5]\n [6 7 8]]\n\n\n[10 10 10]\n\n\nAddition\n[[10 11 12]\n [13 14 15]\n [16 17 18]]\n\n\nSubtraction\n[[-10  -9  -8]\n [ -7  -6  -5]\n [ -4  -3  -2]]\n\n\nMultiplication\n[[ 0 10 20]\n [30 40 50]\n [60 70 80]]\n\n\nDivision\n[[0.  0.1 0.2]\n [0.3 0.4 0.5]\n [0.6 0.7 0.8]]\n"
     ]
    }
   ],
   "source": [
    "a = np.arange(9).reshape(3,3) \n",
    "\n",
    "\n",
    "print(a)\n",
    "print('\\n')\n",
    "\n",
    "\n",
    "b = np.array([10,10,10]) \n",
    "print(b) \n",
    "print('\\n')  \n",
    "\n",
    "print('Addition')\n",
    "print(np.add(a,b)) \n",
    "print('\\n')  \n",
    "\n",
    "print('Subtraction')\n",
    "print(np.subtract(a,b)) \n",
    "print('\\n')  \n",
    "\n",
    "print('Multiplication') \n",
    "print(np.multiply(a,b)) \n",
    "print('\\n')  \n",
    "\n",
    "print('Division') \n",
    "print(np.divide(a,b))"
   ]
  },
  {
   "source": [
    "## 3. TAKE AN ARRAY WITH ATLEAT 7 INTEGET VALUES AND CALCULATE THEIR RECIPROCAL."
   ],
   "cell_type": "markdown",
   "metadata": {}
  },
  {
   "cell_type": "code",
   "execution_count": 31,
   "metadata": {},
   "outputs": [
    {
     "output_type": "stream",
     "name": "stdout",
     "text": [
      "[1 2 3 4 5 6 7]\n\n\nReciprocal:-\n[1 0 0 0 0 0 0]\n"
     ]
    }
   ],
   "source": [
    "c = np.array([1,2,3,4,5,6,7]) \n",
    "\n",
    "print(c)\n",
    "\n",
    "print(\"\\n\")\n",
    "\n",
    "print(\"Reciprocal:-\")\n",
    "\n",
    "print(np.reciprocal(c))"
   ]
  },
  {
   "source": [
    "## 4. FIND THE NTH POWER OF VALUES OF AN ARRAY"
   ],
   "cell_type": "markdown",
   "metadata": {}
  },
  {
   "cell_type": "code",
   "execution_count": 33,
   "metadata": {},
   "outputs": [
    {
     "output_type": "stream",
     "name": "stdout",
     "text": [
      "[  1   8  27  64 125 216 343]\n"
     ]
    }
   ],
   "source": [
    "n = int(input(\"Enter the value of n\"))\n",
    "\n",
    "d = np.array([1,2,3,4,5,6,7]) \n",
    "\n",
    "print(np.power(d,n))"
   ]
  },
  {
   "source": [
    "## 5. WAP TO FIND THE PERCENTILE OF ARRAY ELEMENTS."
   ],
   "cell_type": "markdown",
   "metadata": {}
  },
  {
   "cell_type": "code",
   "execution_count": 35,
   "metadata": {},
   "outputs": [
    {
     "output_type": "stream",
     "name": "stdout",
     "text": [
      "1.0\n"
     ]
    }
   ],
   "source": [
    "a=np.arange(0,5)\n",
    "print(np.percentile(a,25))"
   ]
  },
  {
   "source": [
    "## 6. WAP TO FIND THE MEDIAN OF ARRAY ELEMENT."
   ],
   "cell_type": "markdown",
   "metadata": {}
  },
  {
   "cell_type": "code",
   "execution_count": 36,
   "metadata": {},
   "outputs": [
    {
     "output_type": "stream",
     "name": "stdout",
     "text": [
      "4.5\n"
     ]
    }
   ],
   "source": [
    "b=np.arange(0,10)\n",
    "print(np.median(b))"
   ]
  },
  {
   "source": [
    "## 7. WAP TO FIND THE AVERAGE, MODE, STANDARD DEVIATION , VARIANCE OF ARRAY ELEMENT"
   ],
   "cell_type": "markdown",
   "metadata": {}
  },
  {
   "cell_type": "code",
   "execution_count": 38,
   "metadata": {},
   "outputs": [
    {
     "output_type": "stream",
     "name": "stderr",
     "text": [
      "C:\\Users\\KIIT\\anaconda3\\envs\\my_personal_lab\\lib\\importlib\\_bootstrap.py:219: RuntimeWarning: numpy.ufunc size changed, may indicate binary incompatibility. Expected 192 from C header, got 216 from PyObject\n",
      "  return f(*args, **kwds)\n",
      "C:\\Users\\KIIT\\anaconda3\\envs\\my_personal_lab\\lib\\importlib\\_bootstrap.py:219: RuntimeWarning: numpy.ufunc size changed, may indicate binary incompatibility. Expected 192 from C header, got 216 from PyObject\n",
      "  return f(*args, **kwds)\n",
      "10.0\n",
      "5.477225575051661\n",
      "30.0\n",
      "1\n"
     ]
    }
   ],
   "source": [
    "from scipy import stats\n",
    "\n",
    "a=np.arange(1,20)\n",
    "print(np.mean(a))\n",
    "print(np.std(a))\n",
    "print(np.var(a))\n",
    "\n",
    "b=[1,2,3,4,5,4,1]\n",
    "\n",
    "print(stats.mode(b)[0][0])"
   ]
  },
  {
   "source": [
    "## 8. IMPLEMRNT ANY ONE SORT USING NUMPY."
   ],
   "cell_type": "markdown",
   "metadata": {}
  },
  {
   "cell_type": "code",
   "execution_count": 37,
   "metadata": {},
   "outputs": [
    {
     "output_type": "stream",
     "name": "stdout",
     "text": [
      "[0 1 2 3]\n"
     ]
    }
   ],
   "source": [
    "import numpy as np\n",
    "\n",
    "arr = np.array([3, 2, 0, 1])\n",
    "\n",
    "print(np.sort(arr)) "
   ]
  },
  {
   "cell_type": "code",
   "execution_count": null,
   "metadata": {},
   "outputs": [],
   "source": []
  }
 ]
}