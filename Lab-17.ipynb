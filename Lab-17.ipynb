{
 "metadata": {
  "language_info": {
   "codemirror_mode": {
    "name": "ipython",
    "version": 3
   },
   "file_extension": ".py",
   "mimetype": "text/x-python",
   "name": "python",
   "nbconvert_exporter": "python",
   "pygments_lexer": "ipython3",
   "version": "3.6.8-final"
  },
  "orig_nbformat": 2,
  "kernelspec": {
   "name": "python3",
   "display_name": "Python 3.6.8 64-bit ('my_personal_lab': conda)",
   "metadata": {
    "interpreter": {
     "hash": "7c94d32e572778f173b9c5c1ef4f05bc2ec293e2da62ab8bc3bedc7c9ebe6715"
    }
   }
  }
 },
 "nbformat": 4,
 "nbformat_minor": 2,
 "cells": [
  {
   "source": [
    "# Lab 17 - 1828258 Pranav Shekhar"
   ],
   "cell_type": "markdown",
   "metadata": {}
  },
  {
   "source": [
    "## 1)\t.Create a class with a method that prints \"This is parent class\" and its subclass with another method that prints \"This is child class\". \n",
    "\n",
    "#### Now, create an object for each of the class and call\n",
    "#### 1 - method of parent class by object of parent class\n",
    "#### 2 - method of child class by object of child class\n",
    "#### 3 - method of parent class by object of child class."
   ],
   "cell_type": "markdown",
   "metadata": {}
  },
  {
   "cell_type": "code",
   "execution_count": 1,
   "metadata": {},
   "outputs": [
    {
     "output_type": "stream",
     "name": "stdout",
     "text": [
      "This is parent class\nThis is child class\nThis is parent class\n"
     ]
    }
   ],
   "source": [
    "class Parent:  \n",
    "    def funParent(self):  \n",
    "        print(\"This is parent class\")   \n",
    "class Child(Parent):  \n",
    "    def funChild(self):  \n",
    "        print(\"This is child class\")  \n",
    "obj = Parent()\n",
    "obj.funParent() \n",
    "\n",
    "obj2 = Child()\n",
    "obj2.funChild()\n",
    "\n",
    "obj2.funParent() "
   ]
  },
  {
   "source": [
    "## 2)\tWrite a Python program to find the average of highest 3 values in a dictionary."
   ],
   "cell_type": "markdown",
   "metadata": {}
  },
  {
   "cell_type": "code",
   "execution_count": 2,
   "metadata": {},
   "outputs": [
    {
     "output_type": "stream",
     "name": "stdout",
     "text": [
      "{'Pranav': 20, 'Praddyum': 29, 'Neelanjan': 30, 'Chandan': 30, 'Arnab': 28, 'Ayanava': 27}\nAverage of highest 3 values =  29.666666666666668\n"
     ]
    }
   ],
   "source": [
    "dictionary={'Pranav': 20, 'Praddyum': 29, 'Neelanjan': 30, 'Chandan': 30, 'Arnab': 28, 'Ayanava': 27 }\n",
    "\n",
    "print(dictionary)\n",
    "\n",
    "values=[x for x in dictionary.values()]\n",
    "\n",
    "for i in range(0, len(values)):\n",
    "    for j in range(i, len(values)):\n",
    "        if values[i]<values[j]:\n",
    "            temp=values[i]\n",
    "            values[i]=values[j]\n",
    "            values[j]=temp\n",
    "\n",
    "average=(values[0]+values[1]+values[2])/3\n",
    "\n",
    "print(\"Average of highest 3 values = \", average)"
   ]
  },
  {
   "source": [
    "## 3) \tWAP TO FIND THE AVERAGE, MODE, STANDARD DEVIATION , VARIANCE OF ARRAY ELEMENT."
   ],
   "cell_type": "markdown",
   "metadata": {}
  },
  {
   "cell_type": "code",
   "execution_count": 15,
   "metadata": {},
   "outputs": [
    {
     "output_type": "stream",
     "name": "stdout",
     "text": [
      "10.0\n5.477225575051661\n30.0\n1\n"
     ]
    }
   ],
   "source": [
    "from scipy import stats\n",
    "import numpy as np\n",
    "\n",
    "a=np.arange(1,20)\n",
    "print(np.mean(a)) # Mean= sum / n,  Median = Middle if n is odd and average of middle two elements if n is evem\n",
    "print(np.std(a))  #  Square root of variance\n",
    "print(np.var(a))  # Summation of Squared differences from  mean divided by n\n",
    "\n",
    "b=[1,2,3,4,5,4,1,1]\n",
    "\n",
    "print(stats.mode(b)[0][0]) # Mode = Most Frequent element in array"
   ]
  },
  {
   "source": [
    "## 4)\tWAP TO PERFORM RIGHT JOIN AND INNER JOIN."
   ],
   "cell_type": "markdown",
   "metadata": {}
  },
  {
   "cell_type": "code",
   "execution_count": 13,
   "metadata": {},
   "outputs": [
    {
     "output_type": "execute_result",
     "data": {
      "text/plain": [
       "   Roll       Name      Subject  Code     City_x  id         name  age  \\\n",
       "0   101     Pranav           OS   299      Delhi   1        Jatin   20   \n",
       "1   103     Ashish         DBMS   299    Chennai   1        Jatin   20   \n",
       "2   101     Pranav           OS   299      Delhi   3  Sri Acharya   15   \n",
       "3   103     Ashish         DBMS   299    Chennai   3  Sri Acharya   15   \n",
       "4   102  Neelanjan           CN   135     Mumbai   2     Debdulal   25   \n",
       "5   104    Chandan           CC   149    Kolkata   4       Shruti   10   \n",
       "6   105   Praddyum          DMS   145      Delhi   5        Vibha   30   \n",
       "7   106    Ayanava          BMS   110    Chennai   6     Nandalal   65   \n",
       "8   107      Arnab  Electronics   799  Bengalore   7       Samuel   35   \n",
       "\n",
       "      City_y  \n",
       "0     Mumbai  \n",
       "1     Mumbai  \n",
       "2  Bangalore  \n",
       "3  Bangalore  \n",
       "4      Delhi  \n",
       "5    Chennai  \n",
       "6    Chennai  \n",
       "7      Delhi  \n",
       "8    Kolkata  "
      ],
      "text/html": "<div>\n<style scoped>\n    .dataframe tbody tr th:only-of-type {\n        vertical-align: middle;\n    }\n\n    .dataframe tbody tr th {\n        vertical-align: top;\n    }\n\n    .dataframe thead th {\n        text-align: right;\n    }\n</style>\n<table border=\"1\" class=\"dataframe\">\n  <thead>\n    <tr style=\"text-align: right;\">\n      <th></th>\n      <th>Roll</th>\n      <th>Name</th>\n      <th>Subject</th>\n      <th>Code</th>\n      <th>City_x</th>\n      <th>id</th>\n      <th>name</th>\n      <th>age</th>\n      <th>City_y</th>\n    </tr>\n  </thead>\n  <tbody>\n    <tr>\n      <td>0</td>\n      <td>101</td>\n      <td>Pranav</td>\n      <td>OS</td>\n      <td>299</td>\n      <td>Delhi</td>\n      <td>1</td>\n      <td>Jatin</td>\n      <td>20</td>\n      <td>Mumbai</td>\n    </tr>\n    <tr>\n      <td>1</td>\n      <td>103</td>\n      <td>Ashish</td>\n      <td>DBMS</td>\n      <td>299</td>\n      <td>Chennai</td>\n      <td>1</td>\n      <td>Jatin</td>\n      <td>20</td>\n      <td>Mumbai</td>\n    </tr>\n    <tr>\n      <td>2</td>\n      <td>101</td>\n      <td>Pranav</td>\n      <td>OS</td>\n      <td>299</td>\n      <td>Delhi</td>\n      <td>3</td>\n      <td>Sri Acharya</td>\n      <td>15</td>\n      <td>Bangalore</td>\n    </tr>\n    <tr>\n      <td>3</td>\n      <td>103</td>\n      <td>Ashish</td>\n      <td>DBMS</td>\n      <td>299</td>\n      <td>Chennai</td>\n      <td>3</td>\n      <td>Sri Acharya</td>\n      <td>15</td>\n      <td>Bangalore</td>\n    </tr>\n    <tr>\n      <td>4</td>\n      <td>102</td>\n      <td>Neelanjan</td>\n      <td>CN</td>\n      <td>135</td>\n      <td>Mumbai</td>\n      <td>2</td>\n      <td>Debdulal</td>\n      <td>25</td>\n      <td>Delhi</td>\n    </tr>\n    <tr>\n      <td>5</td>\n      <td>104</td>\n      <td>Chandan</td>\n      <td>CC</td>\n      <td>149</td>\n      <td>Kolkata</td>\n      <td>4</td>\n      <td>Shruti</td>\n      <td>10</td>\n      <td>Chennai</td>\n    </tr>\n    <tr>\n      <td>6</td>\n      <td>105</td>\n      <td>Praddyum</td>\n      <td>DMS</td>\n      <td>145</td>\n      <td>Delhi</td>\n      <td>5</td>\n      <td>Vibha</td>\n      <td>30</td>\n      <td>Chennai</td>\n    </tr>\n    <tr>\n      <td>7</td>\n      <td>106</td>\n      <td>Ayanava</td>\n      <td>BMS</td>\n      <td>110</td>\n      <td>Chennai</td>\n      <td>6</td>\n      <td>Nandalal</td>\n      <td>65</td>\n      <td>Delhi</td>\n    </tr>\n    <tr>\n      <td>8</td>\n      <td>107</td>\n      <td>Arnab</td>\n      <td>Electronics</td>\n      <td>799</td>\n      <td>Bengalore</td>\n      <td>7</td>\n      <td>Samuel</td>\n      <td>35</td>\n      <td>Kolkata</td>\n    </tr>\n  </tbody>\n</table>\n</div>"
     },
     "metadata": {},
     "execution_count": 13
    }
   ],
   "source": [
    "import pandas as pd\n",
    "\n",
    "student=pd.DataFrame({\n",
    "    'Roll':[101,102,103,104,105,106,107],\n",
    "    'Name':['Pranav','Neelanjan','Ashish','Chandan','Praddyum','Ayanava','Arnab'],\n",
    "    'Subject':['OS','CN','DBMS','CC','DMS','BMS','Electronics'],\n",
    "    'Code':[299,135,299,149,145,110,799],\n",
    "    'City':['Delhi','Mumbai','Chennai','Kolkata','Delhi','Chennai','Bengalore']\n",
    "})\n",
    "\n",
    "teacher=pd.DataFrame({\n",
    "    'id':[1,2,3,4,5,6,7],\n",
    "    'name':['Jatin','Debdulal','Sri Acharya','Shruti','Vibha','Nandalal','Samuel'],\n",
    "    'age':[20,25,15,10,30,65,35],\n",
    "    'Code':[299,135,299,149,145,110,799],\n",
    "    'City':['Mumbai','Delhi','Bangalore','Chennai','Chennai','Delhi','Kolkata']\n",
    "})\n",
    "\n",
    "pd.merge(student,teacher,on='Code',how='right')\n",
    "\n",
    "\n"
   ]
  },
  {
   "cell_type": "code",
   "execution_count": 14,
   "metadata": {},
   "outputs": [
    {
     "output_type": "execute_result",
     "data": {
      "text/plain": [
       "   Roll       Name      Subject  Code     City_x  id         name  age  \\\n",
       "0   101     Pranav           OS   299      Delhi   1        Jatin   20   \n",
       "1   101     Pranav           OS   299      Delhi   3  Sri Acharya   15   \n",
       "2   103     Ashish         DBMS   299    Chennai   1        Jatin   20   \n",
       "3   103     Ashish         DBMS   299    Chennai   3  Sri Acharya   15   \n",
       "4   102  Neelanjan           CN   135     Mumbai   2     Debdulal   25   \n",
       "5   104    Chandan           CC   149    Kolkata   4       Shruti   10   \n",
       "6   105   Praddyum          DMS   145      Delhi   5        Vibha   30   \n",
       "7   106    Ayanava          BMS   110    Chennai   6     Nandalal   65   \n",
       "8   107      Arnab  Electronics   799  Bengalore   7       Samuel   35   \n",
       "\n",
       "      City_y  \n",
       "0     Mumbai  \n",
       "1  Bangalore  \n",
       "2     Mumbai  \n",
       "3  Bangalore  \n",
       "4      Delhi  \n",
       "5    Chennai  \n",
       "6    Chennai  \n",
       "7      Delhi  \n",
       "8    Kolkata  "
      ],
      "text/html": "<div>\n<style scoped>\n    .dataframe tbody tr th:only-of-type {\n        vertical-align: middle;\n    }\n\n    .dataframe tbody tr th {\n        vertical-align: top;\n    }\n\n    .dataframe thead th {\n        text-align: right;\n    }\n</style>\n<table border=\"1\" class=\"dataframe\">\n  <thead>\n    <tr style=\"text-align: right;\">\n      <th></th>\n      <th>Roll</th>\n      <th>Name</th>\n      <th>Subject</th>\n      <th>Code</th>\n      <th>City_x</th>\n      <th>id</th>\n      <th>name</th>\n      <th>age</th>\n      <th>City_y</th>\n    </tr>\n  </thead>\n  <tbody>\n    <tr>\n      <td>0</td>\n      <td>101</td>\n      <td>Pranav</td>\n      <td>OS</td>\n      <td>299</td>\n      <td>Delhi</td>\n      <td>1</td>\n      <td>Jatin</td>\n      <td>20</td>\n      <td>Mumbai</td>\n    </tr>\n    <tr>\n      <td>1</td>\n      <td>101</td>\n      <td>Pranav</td>\n      <td>OS</td>\n      <td>299</td>\n      <td>Delhi</td>\n      <td>3</td>\n      <td>Sri Acharya</td>\n      <td>15</td>\n      <td>Bangalore</td>\n    </tr>\n    <tr>\n      <td>2</td>\n      <td>103</td>\n      <td>Ashish</td>\n      <td>DBMS</td>\n      <td>299</td>\n      <td>Chennai</td>\n      <td>1</td>\n      <td>Jatin</td>\n      <td>20</td>\n      <td>Mumbai</td>\n    </tr>\n    <tr>\n      <td>3</td>\n      <td>103</td>\n      <td>Ashish</td>\n      <td>DBMS</td>\n      <td>299</td>\n      <td>Chennai</td>\n      <td>3</td>\n      <td>Sri Acharya</td>\n      <td>15</td>\n      <td>Bangalore</td>\n    </tr>\n    <tr>\n      <td>4</td>\n      <td>102</td>\n      <td>Neelanjan</td>\n      <td>CN</td>\n      <td>135</td>\n      <td>Mumbai</td>\n      <td>2</td>\n      <td>Debdulal</td>\n      <td>25</td>\n      <td>Delhi</td>\n    </tr>\n    <tr>\n      <td>5</td>\n      <td>104</td>\n      <td>Chandan</td>\n      <td>CC</td>\n      <td>149</td>\n      <td>Kolkata</td>\n      <td>4</td>\n      <td>Shruti</td>\n      <td>10</td>\n      <td>Chennai</td>\n    </tr>\n    <tr>\n      <td>6</td>\n      <td>105</td>\n      <td>Praddyum</td>\n      <td>DMS</td>\n      <td>145</td>\n      <td>Delhi</td>\n      <td>5</td>\n      <td>Vibha</td>\n      <td>30</td>\n      <td>Chennai</td>\n    </tr>\n    <tr>\n      <td>7</td>\n      <td>106</td>\n      <td>Ayanava</td>\n      <td>BMS</td>\n      <td>110</td>\n      <td>Chennai</td>\n      <td>6</td>\n      <td>Nandalal</td>\n      <td>65</td>\n      <td>Delhi</td>\n    </tr>\n    <tr>\n      <td>8</td>\n      <td>107</td>\n      <td>Arnab</td>\n      <td>Electronics</td>\n      <td>799</td>\n      <td>Bengalore</td>\n      <td>7</td>\n      <td>Samuel</td>\n      <td>35</td>\n      <td>Kolkata</td>\n    </tr>\n  </tbody>\n</table>\n</div>"
     },
     "metadata": {},
     "execution_count": 14
    }
   ],
   "source": [
    "pd.merge(student,teacher,on='Code',how='inner')"
   ]
  },
  {
   "source": [
    "## 5. Write a Python program to create a dictionary of keys p, q, and r where each key has as value a list from 101-120, 201-220, and 301-320 respectively. Display the seventh (both from beginning and end)value of each key from the dictionary."
   ],
   "cell_type": "markdown",
   "metadata": {}
  },
  {
   "cell_type": "code",
   "execution_count": 11,
   "metadata": {},
   "outputs": [
    {
     "output_type": "stream",
     "name": "stdout",
     "text": [
      "For Key :- p\nSeventh value from beginning :-  107\nSeventh value from end :-  114\nFor Key :- q\nSeventh value from beginning :-  207\nSeventh value from end :-  214\nFor Key :- r\nSeventh value from beginning :-  307\nSeventh value from end :-  314\n"
     ]
    }
   ],
   "source": [
    "dictionary4={'p': [x for x in range(101,121)], 'q': [x for x in range(201,221)], 'r': [x for x in range(301,321)]}\n",
    "\n",
    "for i in dictionary4.keys():\n",
    "   print(\"For Key :-\", i)\n",
    "   print(\"Seventh value from beginning :- \",dictionary4[i][6])\n",
    "   print(\"Seventh value from end :- \", dictionary4[i][-7])"
   ]
  },
  {
   "cell_type": "code",
   "execution_count": 1,
   "metadata": {},
   "outputs": [
    {
     "output_type": "stream",
     "name": "stdout",
     "text": [
      "aaaaa\n"
     ]
    }
   ],
   "source": [
    "a = input(\" Enter character\")\n",
    "\n",
    "print(a*5)"
   ]
  },
  {
   "cell_type": "code",
   "execution_count": null,
   "metadata": {},
   "outputs": [],
   "source": []
  }
 ]
}