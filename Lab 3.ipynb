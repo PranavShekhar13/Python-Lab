{
 "metadata": {
  "language_info": {
   "codemirror_mode": {
    "name": "ipython",
    "version": 3
   },
   "file_extension": ".py",
   "mimetype": "text/x-python",
   "name": "python",
   "nbconvert_exporter": "python",
   "pygments_lexer": "ipython3",
   "version": "3.6.8"
  },
  "orig_nbformat": 2,
  "kernelspec": {
   "name": "python368jvsc74a57bd07c94d32e572778f173b9c5c1ef4f05bc2ec293e2da62ab8bc3bedc7c9ebe6715",
   "display_name": "Python 3.6.8 64-bit ('my_personal_lab': conda)"
  }
 },
 "nbformat": 4,
 "nbformat_minor": 2,
 "cells": [
  {
   "source": [
    "# Lab 3 - 1828258 Pranav Shekhar"
   ],
   "cell_type": "markdown",
   "metadata": {}
  },
  {
   "source": [
    "## *1. To print largest number in a list.*"
   ],
   "cell_type": "markdown",
   "metadata": {}
  },
  {
   "cell_type": "code",
   "execution_count": 2,
   "metadata": {},
   "outputs": [
    {
     "output_type": "stream",
     "name": "stdout",
     "text": [
      "Enter 5 numbers\n",
      "The largest number in list is 5\n"
     ]
    }
   ],
   "source": [
    "mylist = []\n",
    "n = int(input('How many elements you want to enter? '))\n",
    "\n",
    "print('Enter',str(n),'numbers')\n",
    "\n",
    "for i in range(n):\n",
    "    data = int(input())\n",
    "    mylist.append(data)\n",
    "\n",
    "max = 0\n",
    "for data in mylist:\n",
    "    if data > max:\n",
    "        max = data\n",
    "\n",
    "print('The largest number in list is', max)"
   ]
  },
  {
   "source": [
    "## *2. To sum all items in a list.*"
   ],
   "cell_type": "markdown",
   "metadata": {}
  },
  {
   "cell_type": "code",
   "execution_count": 5,
   "metadata": {},
   "outputs": [
    {
     "output_type": "stream",
     "name": "stdout",
     "text": [
      "\n The Sum of All Element in this List is :  6\n"
     ]
    }
   ],
   "source": [
    "List = []\n",
    "\n",
    "n = int(input(\"Please enter the Total Number of List Elements : \"))\n",
    "for i in range (1, n+1):\n",
    "    value = int(input(\"Please enter the Value of %d Element : \" %i))\n",
    "    List.append(value)\n",
    "\n",
    "total = sum(List)\n",
    "\n",
    "print(\"\\n The Sum of All Element in this List is : \", total)"
   ]
  },
  {
   "source": [
    "## 3. *Sorted List in  Descending Order*"
   ],
   "cell_type": "markdown",
   "metadata": {}
  },
  {
   "cell_type": "code",
   "execution_count": 1,
   "metadata": {},
   "outputs": [
    {
     "output_type": "stream",
     "name": "stdout",
     "text": [
      "[9, 8, 7, 3, 2]\n"
     ]
    }
   ],
   "source": [
    "List = []\n",
    "n = int(input(\"Please enter the Total Number of List Elements : \"))\n",
    "for i in range (1, n+1):\n",
    "    value = int(input(\"Please enter the Value of %d Element : \" %i))\n",
    "    List.append(value)\n",
    "\n",
    "sorted_list = []\n",
    "\n",
    "while List:\n",
    "    maximum = List[0]\n",
    "    for item in List:\n",
    "        if item > maximum:\n",
    "            maximum = item\n",
    "    sorted_list.append(maximum)\n",
    "    List.remove(maximum)\n",
    "\n",
    "print(sorted_list)"
   ]
  },
  {
   "source": [
    "## 4. *Python program to clone or copy a list.*"
   ],
   "cell_type": "markdown",
   "metadata": {}
  },
  {
   "cell_type": "code",
   "execution_count": 10,
   "metadata": {},
   "outputs": [
    {
     "output_type": "stream",
     "name": "stdout",
     "text": [
      "Original List: [1, 2, 3]\nAfter Cloning: [1, 2, 3]\n"
     ]
    }
   ],
   "source": [
    "\n",
    "def Cloning(li1): \n",
    "\tli_copy = li1[:] \n",
    "\treturn li_copy\n",
    "\n",
    "List = []\n",
    "n = int(input(\"Please enter the Total Number of List Elements : \"))\n",
    "for i in range (1, n+1):\n",
    "    value = int(input(\"Please enter the Value of %d Element : \" %i))\n",
    "    List.append(value)\n",
    "\n",
    "li2 = Cloning(List) \n",
    "print(\"Original List:\", List) \n",
    "print(\"After Cloning:\", li2)\n"
   ]
  },
  {
   "source": [
    "## *5. Python program to get the frequency of the elements in a list.*"
   ],
   "cell_type": "markdown",
   "metadata": {}
  },
  {
   "source": [
    "def frequency_of_items_in_list(l): \n",
    "    d={} \n",
    "    for i in l: \n",
    "        c=l.count(i) \n",
    "        d[i]=c \n",
    "    return d \n",
    " \n",
    "n=int(input(\"Enter the size of your desired list:\")) \n",
    "l=[];\n",
    "for i in range(n): \n",
    "    x=int(input(f\"Enter the {i+1} element of the list:\")) \n",
    "    l.append(x) \n",
    "print(\"The list entered by the user is\",l) \n",
    "print() \n",
    "s=frequency_of_items_in_list(l) \n",
    "for k,v in s.items(): \n",
    "    print(\"The number\",k,\"appeared\",v,\"times in the list\",l)"
   ],
   "cell_type": "code",
   "metadata": {},
   "execution_count": null,
   "outputs": []
  },
  {
   "source": [
    "## *6. Python program to join two lists and get the smallest number from that list.*"
   ],
   "cell_type": "markdown",
   "metadata": {}
  },
  {
   "cell_type": "code",
   "execution_count": null,
   "metadata": {},
   "outputs": [],
   "source": [
    "\n",
    "List1 = []\n",
    "n = int(input(\"Please enter the Total Number of List Elements : \"))\n",
    "for i in range (1, n+1):\n",
    "    value = int(input(\"Please enter the Value of %d Element : \" %i))\n",
    "    List1.append(value)\n",
    "\t\n",
    "List2 = []\n",
    "n1 = int(input(\"Please enter the Total Number of List Elements : \"))\n",
    "for i in range (1, n1+1):\n",
    "    value = int(input(\"Please enter the Value of %d Element : \" %i))\n",
    "    List2.append(value)\n",
    "\t\n",
    "merged_lst = List1 + List2\n",
    "print(\"Merged List with elements from both lists:\", merged_lst)\n",
    "\n",
    "while merged_lst:\n",
    "    minimum = merged_lst[0]\n",
    "    for item in merged_lst:\n",
    "        if item < minimum:\n",
    "            minimum = item\n",
    "    \n",
    "print(minimum)\n"
   ]
  },
  {
   "source": [
    "## *7. Python program TO  seperate the string values from a list with different data types and also count their frequency.*"
   ],
   "cell_type": "markdown",
   "metadata": {}
  },
  {
   "cell_type": "code",
   "execution_count": 1,
   "metadata": {},
   "outputs": [
    {
     "output_type": "stream",
     "name": "stdout",
     "text": [
      "{'a': 3, 'Python': 2, 'cut': 1, 'tree': 1, 'using': 1}\n"
     ]
    }
   ],
   "source": [
    "A = [\"a\", \"Python\", 1, 4j, \"cut\", \"a\", \"tree\", \"using\", \"a\", \"Python\"]\n",
    "sE = []\n",
    "f = {}\n",
    "for i in A:\n",
    "    if type(i) == str:\n",
    "        sE.append(i)\n",
    "        if i in f:\n",
    "            f[i] += 1\n",
    "        else:\n",
    "            f[i] = 1\n",
    "print(f)\n"
   ]
  },
  {
   "cell_type": "code",
   "execution_count": 6,
   "metadata": {},
   "outputs": [
    {
     "output_type": "stream",
     "name": "stdout",
     "text": [
      "1\n3\n2\n"
     ]
    }
   ],
   "source": [
    "List1 = []\n",
    "n = int(input())\n",
    "for i in range (1, n+1):\n",
    "    value = int(input())\n",
    "    List1.append(value)\n",
    "        \n",
    "for j in range(n-1, -1, -1):\n",
    "    print(List1[j])\n",
    "    "
   ]
  },
  {
   "cell_type": "code",
   "execution_count": null,
   "metadata": {},
   "outputs": [],
   "source": []
  }
 ]
}