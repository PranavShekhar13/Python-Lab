{
 "metadata": {
  "language_info": {
   "codemirror_mode": {
    "name": "ipython",
    "version": 3
   },
   "file_extension": ".py",
   "mimetype": "text/x-python",
   "name": "python",
   "nbconvert_exporter": "python",
   "pygments_lexer": "ipython3",
   "version": "3.6.8-final"
  },
  "orig_nbformat": 2,
  "kernelspec": {
   "name": "python368jvsc74a57bd07c94d32e572778f173b9c5c1ef4f05bc2ec293e2da62ab8bc3bedc7c9ebe6715",
   "display_name": "Python 3.6.8 64-bit ('my_personal_lab': conda)"
  }
 },
 "nbformat": 4,
 "nbformat_minor": 2,
 "cells": [
  {
   "source": [
    "## 1. Write a Pandas program to split a string of a column of a given DataFrame into multiple columns"
   ],
   "cell_type": "markdown",
   "metadata": {}
  },
  {
   "cell_type": "code",
   "execution_count": 1,
   "metadata": {},
   "outputs": [
    {
     "output_type": "stream",
     "name": "stdout",
     "text": [
      "Original DataFrame:\n                 name date_of_birth    age\n0     Alberto  Franco     17/05/2002  18.5\n1    Gino Ann Mcneill     16/02/1999  21.2\n2        Ryan  Parkes     25/09/1998  22.5\n3  Eesha Artur Hinton     11/05/2002  22.0\n4       Syed  Wharton     15/09/1997  23.0\n\nNew DataFrame:\n                 name date_of_birth    age    first middle     last\n0     Alberto  Franco     17/05/2002  18.5  Alberto          Franco\n1    Gino Ann Mcneill     16/02/1999  21.2     Gino    Ann  Mcneill\n2        Ryan  Parkes     25/09/1998  22.5     Ryan          Parkes\n3  Eesha Artur Hinton     11/05/2002  22.0    Eesha  Artur   Hinton\n4       Syed  Wharton     15/09/1997  23.0     Syed         Wharton\n"
     ]
    }
   ],
   "source": [
    "import pandas as pd\n",
    "df = pd.DataFrame({\n",
    "    'name': ['Alberto  Franco','Gino Ann Mcneill','Ryan  Parkes', 'Eesha Artur Hinton', 'Syed  Wharton'],\n",
    "    'date_of_birth ': ['17/05/2002','16/02/1999','25/09/1998','11/05/2002','15/09/1997'],\n",
    "    'age': [18.5, 21.2, 22.5, 22, 23]\n",
    "})\n",
    "print(\"Original DataFrame:\")\n",
    "print(df)\n",
    "df[[\"first\", \"middle\", \"last\"]] = df[\"name\"].str.split(\" \", expand = True)\n",
    "print(\"\\nNew DataFrame:\")\n",
    "print(df)\n"
   ]
  },
  {
   "source": [
    "## 2. Write a Pandas program to extract only non alphanumeric characters from the specified column of a given DataFrame."
   ],
   "cell_type": "markdown",
   "metadata": {}
  },
  {
   "cell_type": "code",
   "execution_count": 2,
   "metadata": {},
   "outputs": [
    {
     "output_type": "stream",
     "name": "stdout",
     "text": [
      "Original DataFrame:\n  company_code       year\n0       c0001#  year 1800\n1      c00@0^2  year 1700\n2       $c0003  year 2300\n3        c0003  year 1900\n4       &c0004  year 2200\n\\Extracting only non alphanumeric characters from company_code:\n  company_code       year nonalpha\n0       c0001#  year 1800      [#]\n1      c00@0^2  year 1700   [@, ^]\n2       $c0003  year 2300      [$]\n3        c0003  year 1900       []\n4       &c0004  year 2200      [&]\n"
     ]
    }
   ],
   "source": [
    "import pandas as pd\n",
    "import re as re\n",
    "pd.set_option('display.max_columns', 10)\n",
    "df = pd.DataFrame({\n",
    "    'company_code': ['c0001#','c00@0^2','$c0003', 'c0003', '&c0004'],\n",
    "    'year': ['year 1800','year 1700','year 2300', 'year 1900', 'year 2200']\n",
    "    })\n",
    "print(\"Original DataFrame:\")\n",
    "print(df)\n",
    "def find_nonalpha(text):\n",
    "    result = re.findall(\"[^A-Za-z0-9 ]\",text)\n",
    "    return result\n",
    "df['nonalpha']=df['company_code'].apply(lambda x: find_nonalpha(x))\n",
    "print(\"\\Extracting only non alphanumeric characters from company_code:\")\n",
    "print(df)\n"
   ]
  },
  {
   "cell_type": "code",
   "execution_count": 10,
   "metadata": {},
   "outputs": [
    {
     "output_type": "stream",
     "name": "stdout",
     "text": [
      "Original DataFrame:\n\n\n  EmpCode     Name    Occupation Date Of Join  Age\n0  Emp001     John       Chemist   2018-01-25   23\n1  Emp002      Doe  Statistician   2018-01-26   24\n2  Emp003  William  Statistician   2018-01-26   34\n3  Emp004    Spark  Statistician   2018-02-26   29\n4  Emp005     Mark    Programmer   2018-03-16   40\n\n\nNew DataFrame:\n  EmpCode    Occupation Date Of Join  Age\n0  Emp001       Chemist   2018-01-25   23\n1  Emp002  Statistician   2018-01-26   24\n2  Emp003  Statistician   2018-01-26   34\n3  Emp004  Statistician   2018-02-26   29\n4  Emp005    Programmer   2018-03-16   40\n"
     ]
    }
   ],
   "source": [
    "import pandas as pd\n",
    "\n",
    "df = pd.DataFrame({'EmpCode': ['Emp001', 'Emp002', 'Emp003', 'Emp004', 'Emp005'],\n",
    "'Name': ['John', 'Doe', 'William', 'Spark', 'Mark'],\n",
    " 'Occupation': ['Chemist', 'Statistician', 'Statistician', 'Statistician', 'Programmer'],\n",
    " 'Date Of Join': ['2018-01-25', '2018-01-26', '2018-01-26', '2018-02-26', '2018-03-16'],\n",
    "'Age': [23, 24, 34, 29, 40]})\n",
    "print(\"Original DataFrame:\")\n",
    "print(\"\\n\")\n",
    "print(df)\n",
    "\n",
    "df.drop('Name',inplace=True,axis=1)\n",
    "\n",
    "df.reset_index(drop=True, inplace=True)\n",
    "print(\"\\n\")\n",
    "print(\"New DataFrame:\")\n",
    "\n",
    "print(df)\n",
    "\n"
   ]
  },
  {
   "cell_type": "code",
   "execution_count": null,
   "metadata": {},
   "outputs": [],
   "source": []
  }
 ]
}