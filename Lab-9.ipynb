{
 "metadata": {
  "language_info": {
   "codemirror_mode": {
    "name": "ipython",
    "version": 3
   },
   "file_extension": ".py",
   "mimetype": "text/x-python",
   "name": "python",
   "nbconvert_exporter": "python",
   "pygments_lexer": "ipython3",
   "version": "3.6.8-final"
  },
  "orig_nbformat": 2,
  "kernelspec": {
   "name": "python3",
   "display_name": "Python 3",
   "language": "python"
  }
 },
 "nbformat": 4,
 "nbformat_minor": 2,
 "cells": [
  {
   "source": [
    "# Lab 9 - 1828258 Pranav Shekhar"
   ],
   "cell_type": "markdown",
   "metadata": {}
  },
  {
   "cell_type": "code",
   "execution_count": 2,
   "metadata": {},
   "outputs": [
    {
     "output_type": "stream",
     "name": "stdout",
     "text": [
      "('physics', 'chemistry', 'biology', 'english', 97, 100, 88, 92)\ntup1[2]:  biology\n"
     ]
    }
   ],
   "source": [
    "tup1 = ('physics', 'chemistry', 'biology', 'english',97, 100,88,92)\n",
    "tup2 = (1, 2, 3, 4, 5 )\n",
    "\n",
    "print(tup1)\n",
    "print (\"tup1[2]: \", tup1[2])"
   ]
  },
  {
   "cell_type": "code",
   "execution_count": 3,
   "metadata": {},
   "outputs": [
    {
     "output_type": "stream",
     "name": "stdout",
     "text": [
      "tup2[2:5]:  (3, 4, 5)\n"
     ]
    }
   ],
   "source": [
    "print (\"tup2[2:5]: \", tup2[2:5]);"
   ]
  },
  {
   "cell_type": "code",
   "execution_count": 5,
   "metadata": {},
   "outputs": [
    {
     "output_type": "stream",
     "name": "stdout",
     "text": [
      "('Prnav', 'Neelanjan', 'Praddyum', 1, 2, 3)\n"
     ]
    }
   ],
   "source": [
    "tup3 = ('Prnav', 'Neelanjan', 'Praddyum')\n",
    "tup4 = (1,2,3)\n",
    "tup5 = tup3 + tup4;\n",
    "print(tup5)"
   ]
  },
  {
   "cell_type": "code",
   "execution_count": 8,
   "metadata": {},
   "outputs": [
    {
     "output_type": "execute_result",
     "data": {
      "text/plain": [
       "6"
      ]
     },
     "metadata": {},
     "execution_count": 8
    }
   ],
   "source": [
    "del tup2\n",
    "len(tup5)"
   ]
  },
  {
   "cell_type": "code",
   "execution_count": 10,
   "metadata": {},
   "outputs": [
    {
     "output_type": "stream",
     "name": "stdout",
     "text": [
      "Pranav Pranav Pranav Pranav \n"
     ]
    }
   ],
   "source": [
    "tup = ('Pranav ')*4\n",
    "print(tup)"
   ]
  },
  {
   "cell_type": "code",
   "execution_count": 13,
   "metadata": {},
   "outputs": [
    {
     "output_type": "stream",
     "name": "stdout",
     "text": [
      "('Prnav', 'Neelanjan', 'Praddyum', 'Prnav', 'Neelanjan', 'Praddyum', 1, 2, 3)\n"
     ]
    }
   ],
   "source": [
    "tupp= (tup3 + tup5)\n",
    "print(tupp)"
   ]
  },
  {
   "cell_type": "code",
   "execution_count": 16,
   "metadata": {},
   "outputs": [
    {
     "output_type": "stream",
     "name": "stdout",
     "text": [
      "True\n"
     ]
    }
   ],
   "source": [
    "tupf = (\"apple\", \"banana\", \"cherry\")\n",
    "print('cherry' in tupf)\n",
    "tupg = tupf"
   ]
  },
  {
   "cell_type": "code",
   "execution_count": 17,
   "metadata": {},
   "outputs": [
    {
     "output_type": "stream",
     "name": "stdout",
     "text": [
      "1448555528624\n1448555528624\n"
     ]
    }
   ],
   "source": [
    "print(id(tupf))\n",
    "print(id(tupg))"
   ]
  },
  {
   "source": [
    "## 1. WAP TO PICK THE 3RD , 4TH N 5TH OBJECT AND CREATE ANOTHER TUPPLE WITH THE SAME"
   ],
   "cell_type": "markdown",
   "metadata": {}
  },
  {
   "cell_type": "code",
   "execution_count": 24,
   "metadata": {},
   "outputs": [
    {
     "output_type": "stream",
     "name": "stdout",
     "text": [
      "(2, 3, 4)\n"
     ]
    }
   ],
   "source": [
    "l = []\n",
    "tupa = (\"apple\", \"banana\", \"cherry\", \"mango\", \"grapes\")\n",
    "for i in range(2,len(tupa)):\n",
    "    l.append(i)\n",
    "l\n",
    "tupb = tuple(l)\n",
    "print(tupb)"
   ]
  },
  {
   "source": [
    "## 2. Counts the number of occurrences of  an item  from a tuple of min 10 elements."
   ],
   "cell_type": "markdown",
   "metadata": {}
  },
  {
   "cell_type": "code",
   "execution_count": 26,
   "metadata": {},
   "outputs": [
    {
     "output_type": "stream",
     "name": "stdout",
     "text": [
      "4\n"
     ]
    }
   ],
   "source": [
    "def countEl(tup, x): \n",
    "    count = 0\n",
    "    for ele in tup: \n",
    "        if (ele == x): \n",
    "            count = count + 1\n",
    "    return count \n",
    "\n",
    "tupc = (10, 8, 5, 2, 10, 15, 10, 8, 5, 8, 8, 2) \n",
    "el = 8\n",
    "print(countEl(tupc, el))"
   ]
  },
  {
   "source": [
    "## 3. Write a Python program calculate the product, multiplying all the numbers  with 35."
   ],
   "cell_type": "markdown",
   "metadata": {}
  },
  {
   "cell_type": "code",
   "execution_count": 35,
   "metadata": {
    "tags": []
   },
   "outputs": [
    {
     "output_type": "execute_result",
     "data": {
      "text/plain": [
       "(350, 280, 175, 70, 350, 525, 350, 280, 175, 280, 280, 70)"
      ]
     },
     "metadata": {},
     "execution_count": 35
    }
   ],
   "source": [
    "tuple([35*i for i in (10, 8, 5, 2, 10, 15, 10, 8, 5, 8, 8, 2)])"
   ]
  },
  {
   "source": [
    "## 4. Write a Python program to replace last value of tuples in a list. Sample list: [(10, 20, 40), (40, 50, 60), (70, 80, 90)] Expected Output: [(10, 20, 100), (40, 50, 100), (70, 80, 100)]"
   ],
   "cell_type": "markdown",
   "metadata": {}
  },
  {
   "cell_type": "code",
   "execution_count": 37,
   "metadata": {},
   "outputs": [
    {
     "output_type": "stream",
     "name": "stdout",
     "text": [
      "[(10, 20, 90), (40, 50, 90), (70, 80, 90)]\n"
     ]
    }
   ],
   "source": [
    "l = [(10, 20, 40), (40, 50, 60), (70, 80, 100)]\n",
    "print([t[:-1] + (90,) for t in l])"
   ]
  },
  {
   "source": [
    "## 5. Write a Python program to find the length of a tuple"
   ],
   "cell_type": "markdown",
   "metadata": {}
  },
  {
   "cell_type": "code",
   "execution_count": 38,
   "metadata": {},
   "outputs": [
    {
     "output_type": "execute_result",
     "data": {
      "text/plain": [
       "3"
      ]
     },
     "metadata": {},
     "execution_count": 38
    }
   ],
   "source": [
    "len(l)"
   ]
  },
  {
   "cell_type": "code",
   "execution_count": null,
   "metadata": {},
   "outputs": [],
   "source": []
  }
 ]
}