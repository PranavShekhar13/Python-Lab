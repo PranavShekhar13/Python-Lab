{
 "metadata": {
  "language_info": {
   "codemirror_mode": {
    "name": "ipython",
    "version": 3
   },
   "file_extension": ".py",
   "mimetype": "text/x-python",
   "name": "python",
   "nbconvert_exporter": "python",
   "pygments_lexer": "ipython3",
   "version": "3.6.8-final"
  },
  "orig_nbformat": 2,
  "kernelspec": {
   "name": "python3",
   "display_name": "Python 3",
   "language": "python"
  }
 },
 "nbformat": 4,
 "nbformat_minor": 2,
 "cells": [
  {
   "source": [
    "# Lab 7 - 1828258 Pranav Shekhar"
   ],
   "cell_type": "markdown",
   "metadata": {}
  },
  {
   "cell_type": "code",
   "execution_count": 1,
   "metadata": {},
   "outputs": [
    {
     "output_type": "stream",
     "name": "stdout",
     "text": [
      "\n\nRecursion Example Results\n1\n3\n6\n10\n15\n21\n"
     ]
    },
    {
     "output_type": "execute_result",
     "data": {
      "text/plain": [
       "21"
      ]
     },
     "metadata": {},
     "execution_count": 1
    }
   ],
   "source": [
    "def tri_recursion(k):\n",
    "  if(k > 0):\n",
    "    result = k + tri_recursion(k - 1)\n",
    "    print(result)\n",
    "  else:\n",
    "    result = 0\n",
    "  return result\n",
    "\n",
    "print(\"\\n\\nRecursion Example Results\")\n",
    "tri_recursion(6)"
   ]
  },
  {
   "cell_type": "code",
   "execution_count": 2,
   "metadata": {},
   "outputs": [
    {
     "output_type": "stream",
     "name": "stdout",
     "text": [
      "apple\nbanana\ncherry\n"
     ]
    }
   ],
   "source": [
    "def my_function(food):\n",
    "  for x in food:\n",
    "    print(x)\n",
    "\n",
    "fruits = [\"apple\", \"banana\", \"cherry\"]\n",
    "\n",
    "my_function(fruits)"
   ]
  },
  {
   "cell_type": "code",
   "execution_count": 3,
   "metadata": {},
   "outputs": [
    {
     "output_type": "stream",
     "name": "stdout",
     "text": [
      "The youngest child is LAL\n"
     ]
    }
   ],
   "source": [
    "def my_function(child3, child2, child1):\n",
    "    print(\"The youngest child is \" + child3)\n",
    "\n",
    "my_function(child1 = \"RAM\", child2 = \"TOM\", child3 = \"LAL\")"
   ]
  },
  {
   "source": [
    "## *1. Create a function that accepts two arguments age and name and print it's value*"
   ],
   "cell_type": "markdown",
   "metadata": {}
  },
  {
   "cell_type": "code",
   "execution_count": 4,
   "metadata": {},
   "outputs": [
    {
     "output_type": "stream",
     "name": "stdout",
     "text": [
      "Name:-  Pranav\nAge:-  20\n"
     ]
    }
   ],
   "source": [
    "def fun(age, name):\n",
    "    print(\"Name:- \", name)\n",
    "    print(\"Age:- \", age)\n",
    "\n",
    "fun(name = \"Pranav\", age = \"20\")"
   ]
  },
  {
   "source": [
    "## *2. Create a function showEmployee() such that it should accept employee name and it's salary and print their value, and if salary is missing it should show it to be 50000.*"
   ],
   "cell_type": "markdown",
   "metadata": {}
  },
  {
   "cell_type": "code",
   "execution_count": 5,
   "metadata": {},
   "outputs": [
    {
     "output_type": "stream",
     "name": "stdout",
     "text": [
      "Name:-  Pranav\nSalary:-  50000\n"
     ]
    }
   ],
   "source": [
    "def showEmployee(name, salary=50000):\n",
    "    print(\"Name:- \", name)\n",
    "    print(\"Salary:- \", salary)\n",
    "\n",
    "showEmployee(\"Pranav\")"
   ]
  },
  {
   "source": [
    "## *3. Print multipication table of 7 using recursion. *"
   ],
   "cell_type": "markdown",
   "metadata": {}
  },
  {
   "cell_type": "code",
   "execution_count": 9,
   "metadata": {},
   "outputs": [
    {
     "output_type": "stream",
     "name": "stdout",
     "text": [
      "7 * 1 = 7\n7 * 2 = 14\n7 * 3 = 21\n7 * 4 = 28\n7 * 5 = 35\n7 * 6 = 42\n7 * 7 = 49\n7 * 8 = 56\n7 * 9 = 63\n7 * 10 = 70\n"
     ]
    }
   ],
   "source": [
    "def mul_table(n, i): \n",
    "      \n",
    "    if (i > 10): \n",
    "        return\n",
    "       \n",
    "    print(n,\"*\",i,\"=\",n * i) \n",
    "      \n",
    "   \n",
    "    return mul_table(n, i + 1)\n",
    "\n",
    "mul_table(7,1)"
   ]
  },
  {
   "source": [
    "## *4. Recursive Function to calculate sum of numbers 0 to 10. *"
   ],
   "cell_type": "markdown",
   "metadata": {}
  },
  {
   "cell_type": "code",
   "execution_count": 11,
   "metadata": {},
   "outputs": [
    {
     "output_type": "stream",
     "name": "stdout",
     "text": [
      "The sum is 55\n"
     ]
    }
   ],
   "source": [
    "def recur_sum(n):\n",
    "   if n <= 1:\n",
    "       return n\n",
    "   else:\n",
    "       return n + recur_sum(n-1)\n",
    "\n",
    "num = 10\n",
    "\n",
    "print(\"The sum is\",recur_sum(num))"
   ]
  },
  {
   "source": [
    "## *5. Function to generate a list of all even numbers between 2 to 100. *"
   ],
   "cell_type": "markdown",
   "metadata": {}
  },
  {
   "cell_type": "code",
   "execution_count": 12,
   "metadata": {},
   "outputs": [
    {
     "output_type": "stream",
     "name": "stdout",
     "text": [
      "2 4 6 8 10 12 14 16 18 20 22 24 26 28 30 32 34 36 38 40 42 44 46 48 50 52 54 56 58 60 62 64 66 68 70 72 74 76 78 80 82 84 86 88 90 92 94 96 98 100 "
     ]
    }
   ],
   "source": [
    "def generate_list(start,end):\n",
    "    for num in range(start, end + 1): \n",
    "        if num % 2 == 0: \n",
    "            print(num, end = \" \")\n",
    "\n",
    "generate_list(2,100)"
   ]
  },
  {
   "source": [
    "## *Pattern 1*"
   ],
   "cell_type": "markdown",
   "metadata": {}
  },
  {
   "cell_type": "code",
   "execution_count": 13,
   "metadata": {},
   "outputs": [
    {
     "output_type": "stream",
     "name": "stdout",
     "text": [
      "*****\n*****\n*****\n*****\n"
     ]
    }
   ],
   "source": [
    "for i in range(0,4):\n",
    "    print(\"*****\")"
   ]
  },
  {
   "source": [
    "## *Pattern 2*"
   ],
   "cell_type": "markdown",
   "metadata": {}
  },
  {
   "cell_type": "code",
   "execution_count": 15,
   "metadata": {},
   "outputs": [
    {
     "output_type": "stream",
     "name": "stdout",
     "text": [
      "AAAAA\nBBBBB\nCCCCC\nDDDDD\nEEEEE\n"
     ]
    }
   ],
   "source": [
    "for i in range (ord('A'),ord('F')):\n",
    "    for j in range(ord('A'),ord('F')):\n",
    "        print(chr(i),end=\"\")\n",
    "        \n",
    "    print()"
   ]
  },
  {
   "source": [
    "## *Pattern 3*"
   ],
   "cell_type": "markdown",
   "metadata": {}
  },
  {
   "cell_type": "code",
   "execution_count": 16,
   "metadata": {},
   "outputs": [
    {
     "output_type": "stream",
     "name": "stdout",
     "text": [
      "1 \n1 2 \n1 2 3 \n1 2 3 4 \n1 2 3 4 5 \n"
     ]
    }
   ],
   "source": [
    "    num = 1\n",
    "    for i in range(0, 5):\n",
    "        num = 1\n",
    "        for j in range(0, i+1):\n",
    "            print(num, end=\" \")\n",
    "            num = num + 1\n",
    "     \n",
    "    \n",
    "        print(\"\\r\")\n",
    " "
   ]
  },
  {
   "source": [
    "## *Pattern 4*"
   ],
   "cell_type": "markdown",
   "metadata": {}
  },
  {
   "cell_type": "code",
   "execution_count": 22,
   "metadata": {},
   "outputs": [
    {
     "output_type": "stream",
     "name": "stdout",
     "text": [
      "P\nP R\nP R A\nP R A B\nP R A B H\nP R A B H U\n"
     ]
    }
   ],
   "source": [
    "text = \"PRABHU\"\n",
    "for index in range(len(text)): \n",
    "    print(*text[:index + 1])\n",
    "    "
   ]
  },
  {
   "source": [
    "## *Pattern 5*"
   ],
   "cell_type": "markdown",
   "metadata": {}
  },
  {
   "cell_type": "code",
   "execution_count": 28,
   "metadata": {},
   "outputs": [
    {
     "output_type": "stream",
     "name": "stdout",
     "text": [
      "EDCBA \nEDCB \nEDC \nED \nE \n"
     ]
    }
   ],
   "source": [
    "text2 = \"EDCBA\"\n",
    "for i in range(5): \n",
    "    print(text2[0:5-i],end=\" \")\n",
    "    print()"
   ]
  },
  {
   "cell_type": "code",
   "execution_count": null,
   "metadata": {},
   "outputs": [],
   "source": []
  }
 ]
}