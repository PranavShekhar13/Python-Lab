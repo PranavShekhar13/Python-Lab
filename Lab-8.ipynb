{
 "metadata": {
  "language_info": {
   "codemirror_mode": {
    "name": "ipython",
    "version": 3
   },
   "file_extension": ".py",
   "mimetype": "text/x-python",
   "name": "python",
   "nbconvert_exporter": "python",
   "pygments_lexer": "ipython3",
   "version": "3.6.8-final"
  },
  "orig_nbformat": 2,
  "kernelspec": {
   "name": "python3",
   "display_name": "Python 3",
   "language": "python"
  }
 },
 "nbformat": 4,
 "nbformat_minor": 2,
 "cells": [
  {
   "source": [
    "# Lab 8 - 1828258 Pranav Shekhar"
   ],
   "cell_type": "markdown",
   "metadata": {}
  },
  {
   "source": [
    "## 1. WAP TO PRINT THIS PATTERN AND TAKE THE NO OF LINES AS INPUT FROM USER."
   ],
   "cell_type": "markdown",
   "metadata": {}
  },
  {
   "cell_type": "code",
   "execution_count": 6,
   "metadata": {},
   "outputs": [
    {
     "output_type": "stream",
     "name": "stdout",
     "text": [
      "* * * * *   * * * * * \n* * * *       * * * * \n* * *           * * * \n* *               * * \n*                   * \n"
     ]
    }
   ],
   "source": [
    "def asterisks(asterisk): \n",
    "    if (asterisk == 0): \n",
    "        return; \n",
    "    print(\"* \", end = \"\"); \n",
    "    asterisks(asterisk - 1); \n",
    "  \n",
    "def spaces(space): \n",
    "    if (space == 0): \n",
    "        return; \n",
    "    print(\" \", end = \"\"); \n",
    "    print(\" \", end = \"\"); \n",
    "    spaces(space - 1); \n",
    "  \n",
    "\n",
    "def pattern(n, num):   \n",
    "    if (n == 0): \n",
    "        return; \n",
    "    asterisks(n); \n",
    "    spaces(2 * (num - n) + 1); \n",
    "    asterisks(n); \n",
    "    print(\"\"); \n",
    "    pattern(n - 1, num); \n",
    "  \n",
    "n = int(input(\"Enter the number of rows\\n\"))\n",
    "pattern(n, n); "
   ]
  },
  {
   "source": [
    "## 2. W.A.P to find Perfect Number using function."
   ],
   "cell_type": "markdown",
   "metadata": {}
  },
  {
   "cell_type": "code",
   "execution_count": 7,
   "metadata": {},
   "outputs": [
    {
     "output_type": "stream",
     "name": "stdout",
     "text": [
      "True\n"
     ]
    }
   ],
   "source": [
    "def perfect(n):\n",
    "    sum = 0\n",
    "    for x in range(1, n):\n",
    "        if n % x == 0:\n",
    "            sum += x\n",
    "    return sum == n\n",
    "\n",
    "n= int(input(\"Enter the number \\n\"))\n",
    "print(perfect(n))"
   ]
  },
  {
   "source": [
    "## 3. W.A.P to find Armstrong Number using function."
   ],
   "cell_type": "markdown",
   "metadata": {}
  },
  {
   "cell_type": "code",
   "execution_count": 10,
   "metadata": {},
   "outputs": [
    {
     "output_type": "stream",
     "name": "stdout",
     "text": [
      "407 is an Armstrong number\n"
     ]
    }
   ],
   "source": [
    "\n",
    "\n",
    "def isArmstrong(num):\n",
    "    sum = 0\n",
    "    temp = num\n",
    "    while temp > 0:\n",
    "        digit = temp % 10\n",
    "        sum += digit ** 3\n",
    "        temp //= 10\n",
    "    if num == sum:\n",
    "        print(num,\"is an Armstrong number\")\n",
    "    else:\n",
    "        print(num,\"is not an Armstrong number\")\n",
    "\n",
    "num = int(input(\"Enter a number: \"))\n",
    "isArmstrong(num)"
   ]
  },
  {
   "source": [
    "## 4. W.A.P to convert Farhenheit to Celcius using function."
   ],
   "cell_type": "markdown",
   "metadata": {}
  },
  {
   "cell_type": "code",
   "execution_count": 11,
   "metadata": {},
   "outputs": [
    {
     "output_type": "stream",
     "name": "stdout",
     "text": [
      "98 Fahrenheit is equal to:  36.66666666666667  degree celsius\n"
     ]
    }
   ],
   "source": [
    "\n",
    "def Fahrenheit_to_Celsius(f) :\n",
    "    \n",
    "    c = (5/9)*(f - 32)\n",
    "    \n",
    "    return c\n",
    "    \n",
    "\n",
    "f = int(input(\"Enter Temp. in Farhenheit \\n\"))\n",
    "print(f,\"Fahrenheit is equal to: \",Fahrenheit_to_Celsius(f),\" degree celsius\")"
   ]
  },
  {
   "source": [
    "## 5. W.A.P to find Total Surface Area of a cuboid with dimensions 3.5ft * 4ft * 2ft using function."
   ],
   "cell_type": "markdown",
   "metadata": {}
  },
  {
   "cell_type": "code",
   "execution_count": 13,
   "metadata": {},
   "outputs": [
    {
     "output_type": "stream",
     "name": "stdout",
     "text": [
      "60.2\n"
     ]
    }
   ],
   "source": [
    "def total_Surface(l, w, h):\n",
    "    surfacearea =2*( l *w  + w* h + h*l)  \n",
    "    return surfacearea\n",
    "\n",
    "print (total_Surface(3.5,4.2,2))"
   ]
  },
  {
   "cell_type": "code",
   "execution_count": 16,
   "metadata": {},
   "outputs": [
    {
     "output_type": "stream",
     "name": "stdout",
     "text": [
      "  1 \n 3 3 \n5 5 5 \n"
     ]
    }
   ],
   "source": [
    "def pattern_3(n):\n",
    "    c=1\n",
    "    for j in range(1, n + 1):\n",
    "        for k in range(n-j):\n",
    "            print(\" \",end=\"\")\n",
    "        for i in range(1, j + 1):\n",
    "            print(c, end = \" \")\n",
    "        c= c+2 \n",
    "        print(\"\")\n",
    "\n",
    "n= int(input(\"Enter the number of rows\"))\n",
    "pattern_3(n)"
   ]
  },
  {
   "cell_type": "code",
   "execution_count": 17,
   "metadata": {},
   "outputs": [
    {
     "output_type": "stream",
     "name": "stdout",
     "text": [
      "**********\n****  ****\n***    ***\n**      **\n*        *\n          \n*        *\n**      **\n***    ***\n****  ****\n**********\n"
     ]
    }
   ],
   "source": [
    "def pattern_4(n):\n",
    "    for i in range(n,0,-1):\n",
    "        print('*'*i+' '*((n-i)*2)+'*'*i)\n",
    "    for i in range(n+1):\n",
    "        print('*'*i+' '*((n-i)*2)+'*'*i)\n",
    "        \n",
    "n= int(input(\"Enter the number of rows\"))\n",
    "pattern_4(n)"
   ]
  },
  {
   "cell_type": "code",
   "execution_count": 46,
   "metadata": {},
   "outputs": [
    {
     "output_type": "stream",
     "name": "stdout",
     "text": [
      "      A\n\n     ABC\n\n    ABCDE\n\n   ABCDEFG\n\n  ABCDEFGHI\n\n"
     ]
    }
   ],
   "source": [
    "def alpha_pattern(rows):\n",
    "    a=rows    \n",
    "    start=65\n",
    "    end=start\n",
    "    for i in range(1,6):\n",
    "        for j in range(1,a):\n",
    "            print(\" \",end='')\n",
    "\n",
    "        for k in range(start,end+1):\n",
    "            print(chr(k),end='')\n",
    "        end=end+2\n",
    "        a=a-1\n",
    "        print(\"\\n\")\n",
    "\n",
    "rows = int(input(\"Enter the number of rows\"))\n",
    "alpha_pattern(rows)\n"
   ]
  },
  {
   "cell_type": "code",
   "execution_count": 30,
   "metadata": {},
   "outputs": [
    {
     "output_type": "stream",
     "name": "stdout",
     "text": [
      "101"
     ]
    }
   ],
   "source": [
    "def binary(num):\n",
    "    if num >= 1:\n",
    "        binary(num // 2)\n",
    "        print((num%2),end='')\n",
    "\n",
    "n = int(input(\"Enter a number\"))\n",
    "binary(n)"
   ]
  },
  {
   "cell_type": "code",
   "execution_count": 31,
   "metadata": {},
   "outputs": [
    {
     "output_type": "stream",
     "name": "stdout",
     "text": [
      "[80, 114, 97, 110, 97, 118]\n"
     ]
    }
   ],
   "source": [
    "def to_ascii(x):\n",
    "    l=[ord(c) for c in x]\n",
    "    return l\n",
    "\n",
    "list_of_ascii=to_ascii(\"Pranav\")\n",
    "print(list_of_ascii)\n"
   ]
  },
  {
   "cell_type": "code",
   "execution_count": 39,
   "metadata": {},
   "outputs": [
    {
     "output_type": "stream",
     "name": "stdout",
     "text": [
      "The L.C.M. is 35\n"
     ]
    }
   ],
   "source": [
    "\n",
    "\n",
    "def compute_lcm(x, y):\n",
    "\n",
    "   if x > y:\n",
    "       greater = x\n",
    "   else:\n",
    "       greater = y\n",
    "\n",
    "   while(True):\n",
    "       if((greater % x == 0) and (greater % y == 0)):\n",
    "           lcm = greater\n",
    "           break\n",
    "       greater += 1\n",
    "\n",
    "   return lcm\n",
    "\n",
    "num1 = int(input(\"Enter first number\"))\n",
    "num2 = int(input(\"Enter second number\"))\n",
    "print(\"The L.C.M. is\", compute_lcm(num1, num2))"
   ]
  },
  {
   "cell_type": "code",
   "execution_count": null,
   "metadata": {},
   "outputs": [],
   "source": []
  }
 ]
}