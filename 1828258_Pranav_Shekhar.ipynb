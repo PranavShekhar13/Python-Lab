{
 "metadata": {
  "language_info": {
   "codemirror_mode": {
    "name": "ipython",
    "version": 3
   },
   "file_extension": ".py",
   "mimetype": "text/x-python",
   "name": "python",
   "nbconvert_exporter": "python",
   "pygments_lexer": "ipython3",
   "version": "3.6.8-final"
  },
  "orig_nbformat": 2,
  "kernelspec": {
   "name": "python368jvsc74a57bd07c94d32e572778f173b9c5c1ef4f05bc2ec293e2da62ab8bc3bedc7c9ebe6715",
   "display_name": "Python 3.6.8 64-bit ('my_personal_lab': conda)"
  }
 },
 "nbformat": 4,
 "nbformat_minor": 2,
 "cells": [
  {
   "source": [
    "## 1.Write a NumPy program to multiply a matrix by another matrix of complex numbers and create a new matrix of complex numbers."
   ],
   "cell_type": "markdown",
   "metadata": {}
  },
  {
   "cell_type": "code",
   "execution_count": 3,
   "metadata": {},
   "outputs": [
    {
     "output_type": "stream",
     "name": "stdout",
     "text": [
      "Matrix A:-\n\n[[ 2.+5.j  7.+8.j]\n [13.+8.j 27.+3.j]]\n\nMatrix B:-\n\n[[ 5.+6.j  7.+8.j]\n [12.+8.j 13.+9.j]]\n\nProduct of the two matrices:-\n\n[[  0.+189.j  -7.+218.j]\n [317.+370.j 351.+442.j]]\n"
     ]
    }
   ],
   "source": [
    "import numpy as np\n",
    "a = np.array([[2+5j,7+8j], [13+8j, 27+3j]])\n",
    "print(\"Matrix A:-\\n\")\n",
    "print(a)\n",
    "b = np.array([[5+6j,7+8j], [12+8j, 13+9j]])\n",
    "print(\"\\nMatrix B:-\\n\")\n",
    "print(b)\n",
    "p = np.matmul(a, b)\n",
    "print(\"\\nProduct of the two matrices:-\\n\")\n",
    "print(p)"
   ]
  },
  {
   "source": [
    "## 2. Write a Python program to PREDICT THE number of days FROM MONTH NAME."
   ],
   "cell_type": "markdown",
   "metadata": {}
  },
  {
   "cell_type": "code",
   "execution_count": 8,
   "metadata": {},
   "outputs": [
    {
     "output_type": "stream",
     "name": "stdout",
     "text": [
      "No. of days in September is 30\n"
     ]
    }
   ],
   "source": [
    "calendar = {'January':31,'Feburary':28,'March':31,'April':30,'May':31,'June':30,'July':31,'August':31,'September':30,'October':31,'November':30,'December':30}\n",
    "month = input('Month Name: ')\n",
    "\n",
    "\n",
    "try:\n",
    "    print(f\"No. of days in {month} is {calendar[month]}\")\n",
    "except KeyError:\n",
    "    print(\"Month does not exist\")"
   ]
  },
  {
   "source": [
    "## 3. Write a Python program to sort numbers from 99 to 9999  using Recursive Bubble Sort."
   ],
   "cell_type": "markdown",
   "metadata": {}
  },
  {
   "cell_type": "code",
   "execution_count": 17,
   "metadata": {},
   "outputs": [
    {
     "output_type": "stream",
     "name": "stdout",
     "text": [
      "[150, 169, 285, 161, 220, 310, 243, 324, 157, 395, 362, 388, 162, 225, 297, 141, 316, 333, 201, 253, 301, 272, 251, 286, 101, 248, 173, 267, 121, 104, 323, 355, 361, 203, 374, 228, 196, 122, 340, 336, 213, 375, 116, 347, 200, 246, 315, 270, 354, 368, 185, 111, 152, 235, 172, 266, 210, 322, 206, 391, 259, 283, 250, 290, 222, 358, 260, 191, 120, 256, 100, 130, 115, 384, 99, 180, 344, 383, 186, 265, 146, 398, 352, 145, 289, 113, 341, 192, 205, 334, 326, 232, 214, 184, 360, 349, 356, 292, 117, 245, 177, 221, 274, 108, 291, 386, 244, 155, 126, 147, 345, 390, 377, 189, 175, 149, 187, 303, 366, 142, 197, 105, 190, 236, 264, 288, 350, 199, 284, 300, 325, 133, 282, 107, 346, 163, 338, 217, 394, 271, 237, 215, 159, 110, 102, 239, 396, 353, 240, 380, 372, 167, 343, 308, 168, 279, 136, 123, 164, 389, 202, 156, 393, 211, 193, 280, 138, 276, 331, 171, 231, 330, 249, 376, 379, 392, 176, 224, 370, 118, 212, 247, 317, 367, 158, 364, 188, 281, 381, 304, 153, 311, 135, 397, 294, 166, 287, 319, 174, 329, 342, 223, 269, 298, 263, 328, 254, 109, 204, 127, 252, 128, 307, 125, 208, 170, 363, 335, 293, 137, 365, 313, 309, 332, 230, 143, 373, 273, 321, 385, 132, 387, 318, 124, 234, 339, 219, 302, 348, 106, 242, 369, 233, 357, 151, 262, 218, 278, 129, 359, 195, 182, 198, 226, 194, 134, 296, 351, 261, 229, 131, 382, 178, 314, 257, 179, 268, 238, 275, 327, 305, 103, 227, 216, 181, 183, 209, 114, 312, 119, 139, 241, 255, 337, 112, 306, 378, 258, 165, 140, 299, 144, 160, 371, 277, 207, 320, 295, 148, 154]\nSorted array :\n <__main__.bubbleSort object at 0x0000017FD33358D0>\n"
     ]
    }
   ],
   "source": [
    "import random\n",
    "class bubbleSort:\n",
    "  def __init__(self, array):\n",
    "        self.array = array\n",
    "        self.length = len(array)\n",
    "  def _str_(self):\n",
    "        return \" \".join([str(x) for x in self.array])\n",
    "  def bubbleSortRecursive(self, n=None):\n",
    "        if n is None:\n",
    "          n = self.length\n",
    "        if n == 1:\n",
    "            return\n",
    "        for i in range(n - 1):\n",
    "            if self.array[i] > self.array[i + 1]:\n",
    "                self.array[i], self.array[i +\n",
    "                1] = self.array[i + 1], self.array[i]\n",
    "        self.bubbleSortRecursive(n - 1)\n",
    "def main():\n",
    "  array = random.sample(range(99,399),300) \n",
    "  print(array)\n",
    "  sort = bubbleSort(array)\n",
    "  sort.bubbleSortRecursive()\n",
    "  print(\"Sorted array :\\n\", sort)\n",
    "  \n",
    "\n",
    "if __name__ == \"__main__\":\n",
    "     main()"
   ]
  },
  {
   "cell_type": "code",
   "execution_count": null,
   "metadata": {},
   "outputs": [],
   "source": []
  }
 ]
}