{
 "metadata": {
  "language_info": {
   "codemirror_mode": {
    "name": "ipython",
    "version": 3
   },
   "file_extension": ".py",
   "mimetype": "text/x-python",
   "name": "python",
   "nbconvert_exporter": "python",
   "pygments_lexer": "ipython3",
   "version": "3.6.8-final"
  },
  "orig_nbformat": 2,
  "kernelspec": {
   "name": "python368jvsc74a57bd07c94d32e572778f173b9c5c1ef4f05bc2ec293e2da62ab8bc3bedc7c9ebe6715",
   "display_name": "Python 3.6.8 64-bit ('my_personal_lab': conda)"
  }
 },
 "nbformat": 4,
 "nbformat_minor": 2,
 "cells": [
  {
   "source": [
    "# *1. Two player rock paper & scissor.*"
   ],
   "cell_type": "markdown",
   "metadata": {}
  },
  {
   "cell_type": "code",
   "execution_count": 1,
   "metadata": {},
   "outputs": [
    {
     "output_type": "stream",
     "name": "stdout",
     "text": [
      "Invalid input. Please give a valid input.\n",
      "Player 1 wins!\n"
     ]
    }
   ],
   "source": [
    "p1 = input(\"Player 1, Enter rock/paper/scissors: \")\n",
    "p2 = input(\"Player 2, Enter rock/paper/scissors: \")\n",
    "\n",
    "def rock_paper_scissors(player_1, player_2):\n",
    "    a_list = [\"rock\", \"paper\", \"scissors\"]\n",
    "\n",
    "    while player_1 not in a_list or player_2 not in a_list:\n",
    "        print (\"Invalid input. Please give a valid input.\")\n",
    "        player_1 = input(\"Player 1, Enter rock/paper/scissors: \")\n",
    "        player_2 = input(\"Player 2, Enter rock/paper/scissors: \")\n",
    "\n",
    "    while player_1 == player_2:\n",
    "        print (\"Nobody wins. Try again\")\n",
    "        player_1 = input(\"Player 1, Enter rock/paper/scissors: \")\n",
    "        player_2 = input(\"Player 2, Enter rock/paper/scissors: \")\n",
    "\n",
    "    if player_1 == \"rock\" and player_2 == \"paper\":\n",
    "        print (\"Player 2 wins!\")\n",
    "\n",
    "    elif player_1 == \"paper\" and player_2 == \"rock\":\n",
    "        print (\"Player 1 wins!\")\n",
    "\n",
    "    elif player_1 == \"rock\" and player_2 == \"scissors\":\n",
    "        print (\"Player 1 wins!\")\n",
    "\n",
    "    elif player_1 == \"scissors\" and player_2 == \"rock\":\n",
    "        print (\"Player 2 wins\")\n",
    "\n",
    "    elif player_1 == \"paper\" and player_2 == \"scissors\":\n",
    "        print (\"Player 2 wins!\")\n",
    "\n",
    "    elif player_1 == \"scissors\" and player_2 == \"paper\":\n",
    "        print (\"Player 1 wins!\")\n",
    "\n",
    "rock_paper_scissors(p1, p2)"
   ]
  },
  {
   "source": [
    "# *2. To copy String Without Using strcpy()*"
   ],
   "cell_type": "markdown",
   "metadata": {}
  },
  {
   "cell_type": "code",
   "execution_count": 2,
   "metadata": {},
   "outputs": [
    {
     "output_type": "stream",
     "name": "stdout",
     "text": [
      "Copied String : Str2  =  Pranav\n"
     ]
    }
   ],
   "source": [
    "str1 = input(\"Enter a String : \")\n",
    "\n",
    "str2 = str1[:]\n",
    "\n",
    "print(\"Copied String : Str2  = \", str2)"
   ]
  },
  {
   "source": [
    "# *3. To get a string made of the first 2 and the last 2 chars from a given a string. If the string length is less than 2, return instead of the empty string.*"
   ],
   "cell_type": "markdown",
   "metadata": {}
  },
  {
   "cell_type": "code",
   "execution_count": 3,
   "metadata": {},
   "outputs": [
    {
     "output_type": "stream",
     "name": "stdout",
     "text": [
      "Helo\n"
     ]
    }
   ],
   "source": [
    "def shorten(str):\n",
    "    if len(str) <= 2:\n",
    "        return str\n",
    "    return str[0:2] + str[-2:]\n",
    "\n",
    "st= input('Enter a String: ')\n",
    "print(shorten(st))"
   ]
  },
  {
   "source": [
    "# *4. To add 'ing' at the end of a given string (length should be at least 3). If the given string already ends with 'ing' then add 'ly' instead. If the string length of the given string is less than 3, leave it unchanged.*"
   ],
   "cell_type": "markdown",
   "metadata": {}
  },
  {
   "cell_type": "code",
   "execution_count": 4,
   "metadata": {},
   "outputs": [
    {
     "output_type": "stream",
     "name": "stdout",
     "text": [
      "Pranaving\n"
     ]
    }
   ],
   "source": [
    "def add_suffix(str):\n",
    "    if len(str) < 3:\n",
    "        return str\n",
    "    else:\n",
    "        if str[-3:] == 'ing':\n",
    "            str = str.replace(str[-3:],\"ly\")\n",
    "            return str\n",
    "        else:\n",
    "            str += 'ing'\n",
    "            return str\n",
    "st=input(\"Enter a String: \")\n",
    "print(add_suffix(st))"
   ]
  },
  {
   "source": [
    "# *5. Python function that takes a list of words and returns the length of the shortest one.*"
   ],
   "cell_type": "markdown",
   "metadata": {}
  },
  {
   "cell_type": "code",
   "execution_count": 5,
   "metadata": {},
   "outputs": [
    {
     "output_type": "stream",
     "name": "stdout",
     "text": [
      "Length of shortest string in the list is 3\n"
     ]
    }
   ],
   "source": [
    "st = input(\"Enter a list of strings separated by space \")\n",
    "def shortest(str):\n",
    "    str_list = str.split()\n",
    "    s_length = min(len(i) for i in str_list) \n",
    "    return s_length\n",
    "print(\"Length of shortest string in the list is\" , shortest(st))"
   ]
  },
  {
   "source": [],
   "cell_type": "markdown",
   "metadata": {}
  }
 ]
}