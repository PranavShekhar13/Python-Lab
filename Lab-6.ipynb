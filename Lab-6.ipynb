{
 "metadata": {
  "language_info": {
   "codemirror_mode": {
    "name": "ipython",
    "version": 3
   },
   "file_extension": ".py",
   "mimetype": "text/x-python",
   "name": "python",
   "nbconvert_exporter": "python",
   "pygments_lexer": "ipython3",
   "version": "3.6.8-final"
  },
  "orig_nbformat": 2,
  "kernelspec": {
   "name": "python3",
   "display_name": "Python 3.6.8 64-bit ('my_personal_lab': conda)",
   "metadata": {
    "interpreter": {
     "hash": "7c94d32e572778f173b9c5c1ef4f05bc2ec293e2da62ab8bc3bedc7c9ebe6715"
    }
   }
  }
 },
 "nbformat": 4,
 "nbformat_minor": 2,
 "cells": [
  {
   "source": [
    "# Lab 6 - 1828258 Pranav Shekhar"
   ],
   "cell_type": "markdown",
   "metadata": {}
  },
  {
   "source": [
    "## Q1. Find the square and cube of a number."
   ],
   "cell_type": "markdown",
   "metadata": {}
  },
  {
   "cell_type": "code",
   "execution_count": 3,
   "metadata": {},
   "outputs": [
    {
     "output_type": "stream",
     "name": "stdout",
     "text": [
      "Cube of the number is: 8\n"
     ]
    }
   ],
   "source": [
    "num = int(input(\"Enter the number: \"))\n",
    "choice = int(input(\"Enter your choice:\\n1. Square\\n2. Cube\\nchoice: \"))\n",
    "\n",
    "if choice == 1:\n",
    "    print(\"Square of the number is:\", num**2)\n",
    "elif choice == 2:\n",
    "    print(\"Cube of the number is:\", num**3)\n",
    "else:\n",
    "    print(\"Invalid Input!\")"
   ]
  },
  {
   "source": [
    "## Q2. WAP to match whether your guessed values are same as that of scored values and also find the grades of scored values.\n"
   ],
   "cell_type": "markdown",
   "metadata": {}
  },
  {
   "cell_type": "code",
   "execution_count": 5,
   "metadata": {},
   "outputs": [
    {
     "output_type": "execute_result",
     "data": {
      "text/plain": [
       "       Name  Marks Grade\n",
       "0       Raj     91     O\n",
       "1     Rohan     72     A\n",
       "2      Adit     82     E\n",
       "3     Nancy     60     B\n",
       "4  Priyanka     80     A"
      ],
      "text/html": "<div>\n<style scoped>\n    .dataframe tbody tr th:only-of-type {\n        vertical-align: middle;\n    }\n\n    .dataframe tbody tr th {\n        vertical-align: top;\n    }\n\n    .dataframe thead th {\n        text-align: right;\n    }\n</style>\n<table border=\"1\" class=\"dataframe\">\n  <thead>\n    <tr style=\"text-align: right;\">\n      <th></th>\n      <th>Name</th>\n      <th>Marks</th>\n      <th>Grade</th>\n    </tr>\n  </thead>\n  <tbody>\n    <tr>\n      <th>0</th>\n      <td>Raj</td>\n      <td>91</td>\n      <td>O</td>\n    </tr>\n    <tr>\n      <th>1</th>\n      <td>Rohan</td>\n      <td>72</td>\n      <td>A</td>\n    </tr>\n    <tr>\n      <th>2</th>\n      <td>Adit</td>\n      <td>82</td>\n      <td>E</td>\n    </tr>\n    <tr>\n      <th>3</th>\n      <td>Nancy</td>\n      <td>60</td>\n      <td>B</td>\n    </tr>\n    <tr>\n      <th>4</th>\n      <td>Priyanka</td>\n      <td>80</td>\n      <td>A</td>\n    </tr>\n  </tbody>\n</table>\n</div>"
     },
     "metadata": {},
     "execution_count": 5
    }
   ],
   "source": [
    "import pandas as pd\n",
    "\n",
    "data = pd.DataFrame({\n",
    "    \"Name\": ['Raj', 'Rohan', 'Adit', 'Nancy', 'Priyanka'],\n",
    "    \"Marks\": [91, 72, 82, 60, 80],\n",
    "    \"Grade\": ['O', 'A', 'E', 'B', 'A']\n",
    "})\n",
    "\n",
    "data"
   ]
  },
  {
   "cell_type": "code",
   "execution_count": 27,
   "metadata": {},
   "outputs": [
    {
     "output_type": "stream",
     "name": "stdout",
     "text": [
      "You have guessed the mark correctly!\nYou have guessed the mark correctly!\n"
     ]
    }
   ],
   "source": [
    "name = input(\"Enter the name of the student: \")\n",
    "\n",
    "if name in list(data['Name']):\n",
    "    guessedMark = int(input(f\"Guess the marks of {name}: \"))\n",
    "    guessedGrade = input(f\"Guess the grade of {name}: \")\n",
    "\n",
    "    if data[data['Name'] == name]['Marks'][0] == guessedMark:\n",
    "        print(\"You have guessed the mark correctly!\")\n",
    "    else:\n",
    "        print(\"You have guessed the mark incorrectly!\")\n",
    "\n",
    "    if data[data['Name'] == name]['Grade'][0] == guessedGrade:\n",
    "        print(\"You have guessed the mark correctly!\")\n",
    "    else:\n",
    "        print(\"You have guessed the mark incorrectly!\")\n",
    "else:\n",
    "    print(\"Student record doesn't exist!\")"
   ]
  },
  {
   "source": [
    "## Q3. WAP to prepare a shopping list, atleast 10 inputs and to display the item which has max priority.\n",
    "\n"
   ],
   "cell_type": "markdown",
   "metadata": {}
  },
  {
   "cell_type": "code",
   "execution_count": 28,
   "metadata": {},
   "outputs": [
    {
     "output_type": "stream",
     "name": "stdout",
     "text": [
      "Item with max priority: sdfsdf\n"
     ]
    }
   ],
   "source": [
    "itemName = []\n",
    "priority = []\n",
    "\n",
    "n = int(input(\"Enter the number of items (at least 10): \"))\n",
    "\n",
    "for i in range(n):\n",
    "    itemName.append(input(f\"Enter item {i+1} name: \"))\n",
    "    priority.append(int(input(\"Enter priority: \")))\n",
    "    print(f\"Item Name: {itemName[i]}, Item Priority: {priority[i]}\")\n",
    "\n",
    "print(f\"Item with max priority: {itemName[priority.index(max(priority))]}\")"
   ]
  },
  {
   "source": [
    "## Q4. WAP to calculate the cost of filling a cylinder @ ₹235/Cu.m and also the time to fill if it takes 14 minutes to fill 1 cu.m."
   ],
   "cell_type": "markdown",
   "metadata": {}
  },
  {
   "cell_type": "code",
   "execution_count": 42,
   "metadata": {},
   "outputs": [
    {
     "output_type": "stream",
     "name": "stdout",
     "text": [
      "The cost of filling the cylinder: ₹73790.0\nThe time required to fill the cylinder: 4396.0 minutes\n"
     ]
    }
   ],
   "source": [
    "radius = float(input(\"Enter the radius of the cylinder (in meters): \"))\n",
    "height = float(input(\"Enter the height of the cylinder (in meters): \"))\n",
    "\n",
    "volume = 3.14 * radius * radius * height\n",
    "\n",
    "print(f\"The cost of filling the cylinder: ₹{volume*235}\")\n",
    "print(f\"The time required to fill the cylinder: {volume*14} minutes\")"
   ]
  },
  {
   "source": [
    "## Q5. WAP to store a student list with all the details of a student and give warning to students with attendance less than 60."
   ],
   "cell_type": "markdown",
   "metadata": {}
  },
  {
   "cell_type": "code",
   "execution_count": 34,
   "metadata": {},
   "outputs": [
    {
     "output_type": "execute_result",
     "data": {
      "text/plain": [
       "     Name Marks Grade Attendance\n",
       "0     Raj    91     O         90\n",
       "1  Nikhil    80     E         50\n",
       "2   Nancy    70     A         70\n",
       "3   Varun    90     O         40\n",
       "4   Rahul    60     B         20"
      ],
      "text/html": "<div>\n<style scoped>\n    .dataframe tbody tr th:only-of-type {\n        vertical-align: middle;\n    }\n\n    .dataframe tbody tr th {\n        vertical-align: top;\n    }\n\n    .dataframe thead th {\n        text-align: right;\n    }\n</style>\n<table border=\"1\" class=\"dataframe\">\n  <thead>\n    <tr style=\"text-align: right;\">\n      <th></th>\n      <th>Name</th>\n      <th>Marks</th>\n      <th>Grade</th>\n      <th>Attendance</th>\n    </tr>\n  </thead>\n  <tbody>\n    <tr>\n      <th>0</th>\n      <td>Raj</td>\n      <td>91</td>\n      <td>O</td>\n      <td>90</td>\n    </tr>\n    <tr>\n      <th>1</th>\n      <td>Nikhil</td>\n      <td>80</td>\n      <td>E</td>\n      <td>50</td>\n    </tr>\n    <tr>\n      <th>2</th>\n      <td>Nancy</td>\n      <td>70</td>\n      <td>A</td>\n      <td>70</td>\n    </tr>\n    <tr>\n      <th>3</th>\n      <td>Varun</td>\n      <td>90</td>\n      <td>O</td>\n      <td>40</td>\n    </tr>\n    <tr>\n      <th>4</th>\n      <td>Rahul</td>\n      <td>60</td>\n      <td>B</td>\n      <td>20</td>\n    </tr>\n  </tbody>\n</table>\n</div>"
     },
     "metadata": {},
     "execution_count": 34
    }
   ],
   "source": [
    "n = int(input(\"Enter the number of students: \"))\n",
    "students = pd.DataFrame(columns=['Name', 'Marks', 'Grade', 'Attendance'])\n",
    "\n",
    "for i in range(n):\n",
    "    name = input(\"Student Name: \")\n",
    "    marks = int(input(\"Student Marks: \"))\n",
    "    grade = input(\"Student Grade: \")\n",
    "    attendance = input(\"Student Attendance: \")\n",
    "    students.loc[i] = [name, marks, grade, attendance]\n",
    "\n",
    "students"
   ]
  },
  {
   "cell_type": "code",
   "execution_count": 41,
   "metadata": {},
   "outputs": [
    {
     "output_type": "stream",
     "name": "stdout",
     "text": [
      "Attendance of Nikhil is low!\nAttendance of Varun is low!\nAttendance of Rahul is low!\n"
     ]
    }
   ],
   "source": [
    "for i, attendance in enumerate(list(students['Attendance'])):\n",
    "    if int(attendance) < 60:\n",
    "        print(f\"Attendance of {students['Name'][i]} is low!\")"
   ]
  },
  {
   "cell_type": "code",
   "execution_count": 1,
   "metadata": {},
   "outputs": [
    {
     "output_type": "stream",
     "name": "stdout",
     "text": [
      "6\n"
     ]
    }
   ],
   "source": [
    "a = int(input())\n",
    "b = int(input())\n",
    "\n",
    "num = a ** b\n",
    "\n",
    "x = num%10\n",
    "\n",
    "print(x)\n",
    "\n",
    "\n"
   ]
  },
  {
   "cell_type": "code",
   "execution_count": null,
   "metadata": {},
   "outputs": [],
   "source": []
  }
 ]
}