{
 "metadata": {
  "language_info": {
   "codemirror_mode": {
    "name": "ipython",
    "version": 3
   },
   "file_extension": ".py",
   "mimetype": "text/x-python",
   "name": "python",
   "nbconvert_exporter": "python",
   "pygments_lexer": "ipython3",
   "version": "3.7.4-final"
  },
  "orig_nbformat": 2,
  "kernelspec": {
   "name": "python37464bitbaseconda1b2b1a68e94c4ea38a95efb553a2b2f4",
   "display_name": "Python 3.7.4 64-bit ('base': conda)",
   "language": "python"
  }
 },
 "nbformat": 4,
 "nbformat_minor": 2,
 "cells": [
  {
   "source": [
    "# Lab 16 - 1828258 Pranav Shekhar"
   ],
   "cell_type": "markdown",
   "metadata": {}
  },
  {
   "cell_type": "code",
   "execution_count": 32,
   "metadata": {},
   "outputs": [],
   "source": [
    "import pandas as pd\n",
    "import numpy as np"
   ]
  },
  {
   "source": [
    "## Q1. WAP to create a dictionary of pandas series and from that create a dataframe and find the transpose of the dataframe."
   ],
   "cell_type": "markdown",
   "metadata": {}
  },
  {
   "cell_type": "code",
   "execution_count": 21,
   "metadata": {},
   "outputs": [
    {
     "output_type": "stream",
     "name": "stdout",
     "text": [
      "Data Frame\n\n   1  2  3\n0  1  4  7\n1  2  5  8\n2  3  6  9 \n\n\nData Frame Transpose\n\n   0  1  2\n1  1  2  3\n2  4  5  6\n3  7  8  9\n"
     ]
    }
   ],
   "source": [
    "numbers = {\n",
    "    1: pd.Series([1, 2, 3]),\n",
    "    2: pd.Series([4, 5, 6]),\n",
    "    3: pd.Series([7, 8, 9]),\n",
    "}\n",
    "\n",
    "dataFrame = pd.DataFrame(numbers)\n",
    "dataFrameTranspose = dataFrame.transpose()\n",
    "\n",
    "print(\"Data Frame\\n\")\n",
    "print(dataFrame, '\\n\\n')\n",
    "print(\"Data Frame Transpose\\n\")\n",
    "print(dataFrameTranspose)"
   ]
  },
  {
   "source": [
    "## Q2. Find the number of records in a dataframe."
   ],
   "cell_type": "markdown",
   "metadata": {}
  },
  {
   "cell_type": "code",
   "execution_count": 84,
   "metadata": {},
   "outputs": [
    {
     "output_type": "stream",
     "name": "stdout",
     "text": [
      "DataFrame:\n\n   1  2  3\n0  1  4  7\n1  2  5  8\n2  3  6  9\n\n\nNumber of records:  3\n"
     ]
    }
   ],
   "source": [
    "numbers = {\n",
    "    1: pd.Series([1, 2, 3]),\n",
    "    2: pd.Series([4, 5, 6]),\n",
    "    3: pd.Series([7, 8, 9])\n",
    "}\n",
    "\n",
    "dataFrame = pd.DataFrame(numbers)\n",
    "\n",
    "print(\"DataFrame:\\n\")\n",
    "print(dataFrame)\n",
    "\n",
    "print(\"\\n\\nNumber of records: \", dataFrame.shape[0])"
   ]
  },
  {
   "source": [
    "## Q3. WAP to create a dict with series. Create a dataframe and return the actual data in the DataFrame as an NDarray."
   ],
   "cell_type": "markdown",
   "metadata": {}
  },
  {
   "cell_type": "code",
   "execution_count": 35,
   "metadata": {},
   "outputs": [
    {
     "output_type": "stream",
     "name": "stdout",
     "text": [
      "DataFrame:\n\n   1  2  3\n0  1  4  7\n1  2  5  8\n2  3  6  9\n\n\n[1 2 3]\n[4 5 6]\n[7 8 9]\n"
     ]
    }
   ],
   "source": [
    "numbers = {\n",
    "    1: pd.Series([1, 2, 3]),\n",
    "    2: pd.Series([4, 5, 6]),\n",
    "    3: pd.Series([7, 8, 9]),\n",
    "}\n",
    "\n",
    "dataFrame = pd.DataFrame(numbers)\n",
    "\n",
    "print(\"DataFrame:\\n\")\n",
    "print(dataFrame)\n",
    "print(\"\\n\")\n",
    "\n",
    "for i in dataFrame:\n",
    "    print(np.array(dataFrame[i]))"
   ]
  },
  {
   "source": [
    "## Q4. WAP to create a dict with series. Create a dataframe and return the first row and the last row."
   ],
   "cell_type": "markdown",
   "metadata": {}
  },
  {
   "cell_type": "code",
   "execution_count": 41,
   "metadata": {},
   "outputs": [
    {
     "output_type": "stream",
     "name": "stdout",
     "text": [
      "DataFrame:\n\n   1  2  3\n0  1  4  7\n1  2  5  8\n2  3  6  9\n\n\nFirst Column:\n\n0    1\n1    2\n2    3\nName: 1, dtype: int64\n\n\nLast Column:\n\n0    7\n1    8\n2    9\nName: 3, dtype: int64\n"
     ]
    }
   ],
   "source": [
    "numbers = {\n",
    "    1: pd.Series([1, 2, 3]),\n",
    "    2: pd.Series([4, 5, 6]),\n",
    "    3: pd.Series([7, 8, 9]),\n",
    "}\n",
    "\n",
    "dataFrame = pd.DataFrame(numbers)\n",
    "\n",
    "print(\"DataFrame:\\n\")\n",
    "print(dataFrame)\n",
    "print(\"\\n\")\n",
    "\n",
    "print(\"First Column:\\n\")\n",
    "print(dataFrame[1])\n",
    "\n",
    "print(\"\\n\\nLast Column:\\n\")\n",
    "print(dataFrame[len(dataFrame)])\n"
   ]
  },
  {
   "source": [
    "## Q5. WAP to iterate rows using itertuples."
   ],
   "cell_type": "markdown",
   "metadata": {}
  },
  {
   "cell_type": "code",
   "execution_count": 50,
   "metadata": {},
   "outputs": [
    {
     "output_type": "stream",
     "name": "stdout",
     "text": [
      "DataFrame:\n\n   1  2  3\n0  1  4  7\n1  2  5  8\n2  3  6  9\n\n\nRows \n\n[0 1 4 7]\n[1 2 5 8]\n[2 3 6 9]\n"
     ]
    }
   ],
   "source": [
    "numbers = {\n",
    "    1: pd.Series([1, 2, 3]),\n",
    "    2: pd.Series([4, 5, 6]),\n",
    "    3: pd.Series([7, 8, 9]),\n",
    "}\n",
    "\n",
    "dataFrame = pd.DataFrame(numbers)\n",
    "\n",
    "print(\"DataFrame:\\n\")\n",
    "print(dataFrame)\n",
    "print(\"\\n\")\n",
    "\n",
    "print(\"Rows\",\"\\n\")\n",
    "\n",
    "for row in dataFrame.itertuples():\n",
    "    print(np.array(row))"
   ]
  },
  {
   "source": [
    "## Q6. WAP to find the length of the string."
   ],
   "cell_type": "markdown",
   "metadata": {}
  },
  {
   "cell_type": "code",
   "execution_count": 63,
   "metadata": {},
   "outputs": [
    {
     "output_type": "stream",
     "name": "stdout",
     "text": [
      "String: 'Hello', String length: 5\nString: 'World', String length: 5\nString: 'Python', String length: 6\nString: 'Pandas', String length: 6\n"
     ]
    }
   ],
   "source": [
    "strings = {\n",
    "    1: pd.Series([\"Hello\", \"World\", \"Python\", \"Pandas\"]),\n",
    "}\n",
    "\n",
    "dataFrame = pd.DataFrame(strings)\n",
    "\n",
    "for row in dataFrame.itertuples():\n",
    "    print(f\"String: '{row._1}', String length: {len(row._1)}\")"
   ]
  },
  {
   "source": [
    "## Q7. Repeat the values in odd position 3 times in the dataframe."
   ],
   "cell_type": "markdown",
   "metadata": {}
  },
  {
   "cell_type": "code",
   "execution_count": 80,
   "metadata": {},
   "outputs": [
    {
     "output_type": "execute_result",
     "data": {
      "text/plain": [
       "0     World\n",
       "0     World\n",
       "0     World\n",
       "1    Pandas\n",
       "1    Pandas\n",
       "1    Pandas\n",
       "dtype: object"
      ]
     },
     "metadata": {},
     "execution_count": 80
    }
   ],
   "source": [
    "strings = pd.Series([\"Hello\", \"World\", \"Python\", \"Pandas\"])\n",
    "\n",
    "pd.Series([x for i, x in enumerate(list(strings)) if i % 2 != 0]).repeat(3)"
   ]
  },
  {
   "source": [
    "## Q8. WAP TO Merge Two DataFrames on Multiple Keys"
   ],
   "cell_type": "markdown",
   "metadata": {}
  },
  {
   "cell_type": "code",
   "execution_count": 83,
   "metadata": {},
   "outputs": [
    {
     "output_type": "execute_result",
     "data": {
      "text/plain": [
       "   A  B  v_and   v_or\n",
       "0  0  0   True  False\n",
       "1  0  1  False   True\n",
       "2  1  0  False   True\n",
       "3  1  1   True   True"
      ],
      "text/html": "<div>\n<style scoped>\n    .dataframe tbody tr th:only-of-type {\n        vertical-align: middle;\n    }\n\n    .dataframe tbody tr th {\n        vertical-align: top;\n    }\n\n    .dataframe thead th {\n        text-align: right;\n    }\n</style>\n<table border=\"1\" class=\"dataframe\">\n  <thead>\n    <tr style=\"text-align: right;\">\n      <th></th>\n      <th>A</th>\n      <th>B</th>\n      <th>v_and</th>\n      <th>v_or</th>\n    </tr>\n  </thead>\n  <tbody>\n    <tr>\n      <th>0</th>\n      <td>0</td>\n      <td>0</td>\n      <td>True</td>\n      <td>False</td>\n    </tr>\n    <tr>\n      <th>1</th>\n      <td>0</td>\n      <td>1</td>\n      <td>False</td>\n      <td>True</td>\n    </tr>\n    <tr>\n      <th>2</th>\n      <td>1</td>\n      <td>0</td>\n      <td>False</td>\n      <td>True</td>\n    </tr>\n    <tr>\n      <th>3</th>\n      <td>1</td>\n      <td>1</td>\n      <td>True</td>\n      <td>True</td>\n    </tr>\n  </tbody>\n</table>\n</div>"
     },
     "metadata": {},
     "execution_count": 83
    }
   ],
   "source": [
    "a = pd.DataFrame({'A':['0', '0', '1','1'],'B':['0', '1', '0','1'], 'v':[True, False, False, True]})\n",
    "b = pd.DataFrame({'A':['0', '0', '1','1'], 'B':['0', '1', '0','1'],'v':[False, True, True, True]})\n",
    "\n",
    "result = pd.merge(a, b, on=['A','B'], how='inner', suffixes=['_and', '_or'])\n",
    "\n",
    "result"
   ]
  }
 ]
}