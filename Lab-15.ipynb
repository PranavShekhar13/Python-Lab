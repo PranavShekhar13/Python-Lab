{
 "metadata": {
  "language_info": {
   "codemirror_mode": {
    "name": "ipython",
    "version": 3
   },
   "file_extension": ".py",
   "mimetype": "text/x-python",
   "name": "python",
   "nbconvert_exporter": "python",
   "pygments_lexer": "ipython3",
   "version": "3.6.8-final"
  },
  "orig_nbformat": 2,
  "kernelspec": {
   "name": "python368jvsc74a57bd07c94d32e572778f173b9c5c1ef4f05bc2ec293e2da62ab8bc3bedc7c9ebe6715",
   "display_name": "Python 3.6.8 64-bit ('my_personal_lab': conda)"
  }
 },
 "nbformat": 4,
 "nbformat_minor": 2,
 "cells": [
  {
   "source": [
    "# Lab 15 - 1828258 Pranav Shekhar"
   ],
   "cell_type": "markdown",
   "metadata": {}
  },
  {
   "source": [
    "## 1. Find degree of a polynonial in numpy."
   ],
   "cell_type": "markdown",
   "metadata": {}
  },
  {
   "cell_type": "code",
   "execution_count": 28,
   "metadata": {},
   "outputs": [
    {
     "output_type": "stream",
     "name": "stdout",
     "text": [
      "   3     2\n1 x + 2 x + 3 x + 4\n3\n"
     ]
    }
   ],
   "source": [
    "import numpy as np\n",
    "\n",
    "num = [1,2,3,4]\n",
    "\n",
    "poly = np.poly1d(num)\n",
    "\n",
    "print(poly)\n",
    "\n",
    "\n",
    "deg = poly.order\n",
    "\n",
    "\n",
    "print(deg)\n",
    "\n"
   ]
  },
  {
   "source": [
    "## 2. WAP to find factorial of a number in numpy."
   ],
   "cell_type": "markdown",
   "metadata": {}
  },
  {
   "cell_type": "code",
   "execution_count": 9,
   "metadata": {},
   "outputs": [
    {
     "output_type": "stream",
     "name": "stdout",
     "text": [
      "120\n"
     ]
    }
   ],
   "source": [
    "n = int(input(\"Enter the number \"))\n",
    "\n",
    "fact = np.math.factorial(n)\n",
    "\n",
    "print(fact)"
   ]
  },
  {
   "source": [
    "## 3. WAP to find roots of a Quadratic Equation."
   ],
   "cell_type": "markdown",
   "metadata": {}
  },
  {
   "cell_type": "code",
   "execution_count": 14,
   "metadata": {},
   "outputs": [
    {
     "output_type": "stream",
     "name": "stdout",
     "text": [
      "   2\n1 x + 2 x + 3\n[-1.+1.41421356j -1.-1.41421356j]\n"
     ]
    }
   ],
   "source": [
    "coeff = [1,2,3]\n",
    "\n",
    "poly = np.poly1d(coeff)\n",
    "\n",
    "print(poly)\n",
    "\n",
    "roots = np.roots(coeff)\n",
    "\n",
    "print(roots)\n",
    "\n",
    "\n"
   ]
  },
  {
   "source": [
    "## 4. WAP to print diagonal elements of a matrix."
   ],
   "cell_type": "markdown",
   "metadata": {}
  },
  {
   "cell_type": "code",
   "execution_count": 15,
   "metadata": {},
   "outputs": [
    {
     "output_type": "stream",
     "name": "stdout",
     "text": [
      "[[1 5 9]]\n"
     ]
    }
   ],
   "source": [
    "\n",
    "mat = np.matrix('[1, 2, 3; 4, 5, 6; 7, 8, 9]') \n",
    "         \n",
    "\n",
    "diag = mat.diagonal() \n",
    "   \n",
    "print(diag)"
   ]
  },
  {
   "source": [
    "## 5. WAP to find profit or loss for a given CP and SP."
   ],
   "cell_type": "markdown",
   "metadata": {}
  },
  {
   "cell_type": "code",
   "execution_count": 23,
   "metadata": {},
   "outputs": [
    {
     "output_type": "stream",
     "name": "stdout",
     "text": [
      "Total Profit = 50.0\n"
     ]
    }
   ],
   "source": [
    "cost = float(input(\" Please Enter the Actual Product Price: \"))\n",
    "amount = float(input(\" Please Enter the Sales Amount: \"))\n",
    " \n",
    "if(cost > amount):\n",
    "    p = cost - amount\n",
    "    print(\"Total Loss Amount = {0}\".format(p))\n",
    "elif(amount > cost):\n",
    "    p = amount - cost\n",
    "    print(\"Total Profit = {0}\".format(p))\n",
    "else:\n",
    "    print(\"No Profit No Loss!!!\")"
   ]
  },
  {
   "source": [
    "## 6. WAP to sort the matrix row wise and Column wise.\n"
   ],
   "cell_type": "markdown",
   "metadata": {}
  },
  {
   "cell_type": "code",
   "execution_count": 20,
   "metadata": {},
   "outputs": [
    {
     "output_type": "stream",
     "name": "stdout",
     "text": [
      "[[1 4]\n [1 3]]\n[[1 3]\n [1 4]]\n"
     ]
    }
   ],
   "source": [
    "a = np.array([[1,4], [3,1]])\n",
    "a.sort(axis=1)\n",
    "\n",
    "print(a)\n",
    "\n",
    "a.sort(axis=0)\n",
    "\n",
    "print(a)"
   ]
  },
  {
   "cell_type": "code",
   "execution_count": null,
   "metadata": {},
   "outputs": [],
   "source": []
  }
 ]
}